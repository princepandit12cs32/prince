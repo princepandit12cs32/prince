{
 "cells": [
  {
   "cell_type": "code",
   "execution_count": 8,
   "id": "4bc0f275",
   "metadata": {},
   "outputs": [
    {
     "name": "stdout",
     "output_type": "stream",
     "text": [
      "[[0. 0. 0. 0. 0. 0. 0.]\n",
      " [0. 0. 0. 0. 0. 0. 0.]\n",
      " [0. 0. 0. 0. 0. 0. 0.]\n",
      " [0. 0. 0. 0. 0. 0. 0.]\n",
      " [0. 0. 0. 0. 0. 0. 0.]\n",
      " [0. 0. 0. 0. 0. 0. 0.]]\n"
     ]
    },
    {
     "data": {
      "text/plain": [
       "numpy.ndarray"
      ]
     },
     "execution_count": 8,
     "metadata": {},
     "output_type": "execute_result"
    }
   ],
   "source": [
    "# Initializing NumPy array with zero\n",
    "import numpy as np\n",
    "\n",
    "n1 = np.zeros((6,7))\n",
    "n2 = np.zeros((1,2))\n",
    "print(n1)\n",
    "#print(n2)\n",
    "type(n1)"
   ]
  },
  {
   "cell_type": "code",
   "execution_count": 11,
   "id": "996dd870",
   "metadata": {},
   "outputs": [
    {
     "data": {
      "text/plain": [
       "array([[16, 16, 16],\n",
       "       [16, 16, 16]])"
      ]
     },
     "execution_count": 11,
     "metadata": {},
     "output_type": "execute_result"
    }
   ],
   "source": [
    "# Initializing NumPy array with same number\n",
    "\n",
    "import numpy as np\n",
    "n1 = np.full((2,3),16)\n",
    "n1\n"
   ]
  },
  {
   "cell_type": "code",
   "execution_count": 14,
   "id": "01bcf19e",
   "metadata": {},
   "outputs": [
    {
     "name": "stdout",
     "output_type": "stream",
     "text": [
      "[12 13 14 15]\n",
      "[11 13 15 17 19 21 23]\n"
     ]
    }
   ],
   "source": [
    "                        # Initializing NumPy array with range\n",
    "\n",
    "import numpy as np\n",
    "\n",
    "np1 = np.arange(12,16)#first argument is starting range and second argument is end of the rangeyu8\n",
    "np2 = np.arange(11,25,2)# third argument is interval of the arange\n",
    "print(np1)\n",
    "print(np2)\n"
   ]
  },
  {
   "cell_type": "code",
   "execution_count": 30,
   "id": "80cedec5",
   "metadata": {},
   "outputs": [
    {
     "data": {
      "text/plain": [
       "array([ 3,  1, 12,  6, 12,  8,  9, 12,  6, 11,  5, 13, 10,  4])"
      ]
     },
     "execution_count": 30,
     "metadata": {},
     "output_type": "execute_result"
    }
   ],
   "source": [
    "                    # Initializing NumPy array with random number\n",
    "\n",
    "import numpy as np1\n",
    "\n",
    "n1 = np1.random.randint(1,14,14)\n",
    "n1\n",
    "#n1.shape"
   ]
  },
  {
   "cell_type": "code",
   "execution_count": 25,
   "id": "551c018c",
   "metadata": {},
   "outputs": [
    {
     "data": {
      "text/plain": [
       "(3, 3)"
      ]
     },
     "execution_count": 25,
     "metadata": {},
     "output_type": "execute_result"
    }
   ],
   "source": [
    "                    #Checking the shape of the NumPy arrays\n",
    "\n",
    "import numpy as np\n",
    "\n",
    "n1 = np.array([[1,2,3],[3,12,34],[12,13,32]])\n",
    "n1.shape"
   ]
  },
  {
   "cell_type": "code",
   "execution_count": 11,
   "id": "d1fe00f4",
   "metadata": {},
   "outputs": [
    {
     "name": "stdout",
     "output_type": "stream",
     "text": [
      "[[ 1  2  3  4  5]\n",
      " [10 20 30 40 50]]\n",
      "[[ 1  2  3  4  5]\n",
      " [10 20 30 40 50]]\n"
     ]
    }
   ],
   "source": [
    "                                # Joining NumPy Array\n",
    "\n",
    "import numpy as np\n",
    "\n",
    "s1 = np.array([1,2,3,4,5])\n",
    "s2 = np.array([10,20,30,40,50])\n",
    "s3 = np.vstack((s1,s2)) # vertical Join\n",
    "s4 = np.hstack((s1,s2)) # Horizontal Join\n",
    "s5 = np.column_stack((s1,s2)) # Join the array in column(vertical)\n",
    "s6 = np.row_stack((s1,s2))  # Join the array in row(horizontal)\n",
    "print((s6))\n",
    "print(s3)\n",
    "#print(s4)"
   ]
  },
  {
   "cell_type": "code",
   "execution_count": 15,
   "id": "a78fc8a1",
   "metadata": {},
   "outputs": [
    {
     "data": {
      "text/plain": [
       "array([22, 45, 56])"
      ]
     },
     "execution_count": 15,
     "metadata": {},
     "output_type": "execute_result"
    }
   ],
   "source": [
    "               # Numpy Intersection and Difference\n",
    "    \n",
    "import numpy as np\n",
    "\n",
    "s1 = np.array([12,11,23,21,34])\n",
    "s2 = np.array([21,23,22,45,56])\n",
    "\n",
    "s3 = np.intersect1d(s1,s2) # Intersection method intersect1d()\n",
    "\n",
    "s3\n",
    "\n",
    "\n",
    "s3 = np.setdiff1d(s1,s2) # difference from s1 to s2\n",
    "\n",
    "s3\n",
    "\n",
    "\n",
    "s3 = np.setdiff1d(s2,s1) # diffence from s2 to s1\n",
    "\n",
    "s3"
   ]
  },
  {
   "cell_type": "code",
   "execution_count": 25,
   "id": "ba9eb14b",
   "metadata": {},
   "outputs": [
    {
     "data": {
      "text/plain": [
       "array([12.5 , 13.75, 15.  , 16.25, 18.75])"
      ]
     },
     "execution_count": 25,
     "metadata": {},
     "output_type": "execute_result"
    }
   ],
   "source": [
    "                        # NumPy Array Mathematics\n",
    "import numpy as np\n",
    "\n",
    "n1 = np.array([10,11,12,13,15])\n",
    "n2 = np.array([10,20,30,40,50])\n",
    "\n",
    "\n",
    "s = np.sum([n1,n2]) # addition is perform by sum() method\n",
    "\n",
    "s = np.subtract(n2,n1) # substraction is performed by subtract() method\n",
    "\n",
    "s\n",
    "\n",
    "# n1 = n1+1 # Basic addition in array\n",
    "\n",
    "# n1 = n1-5 # Basic Substraction in array\n",
    "\n",
    "n1 = n1*3 # Basic multiplication in array\n",
    "\n",
    "n1 = n1/2.4 # Basic Divison in array\n",
    "n1"
   ]
  },
  {
   "cell_type": "code",
   "execution_count": 30,
   "id": "2d221661",
   "metadata": {},
   "outputs": [
    {
     "data": {
      "text/plain": [
       "503.8923187436864"
      ]
     },
     "execution_count": 30,
     "metadata": {},
     "output_type": "execute_result"
    }
   ],
   "source": [
    "                # NumPy Math Functions\n",
    "    \n",
    "import numpy as np\n",
    "\n",
    "n1  = np.array([121.1,1233,213])\n",
    "\n",
    "#np.mean(n1)  # Mean funtion mean()\n",
    "\n",
    "#np.median(n1) # median Funtion median()\n",
    "\n",
    "np.std(n1) # Standered Deviation function std()\n",
    "\n"
   ]
  },
  {
   "cell_type": "code",
   "execution_count": 35,
   "id": "5e4834eb",
   "metadata": {},
   "outputs": [
    {
     "data": {
      "text/plain": [
       "array([1, 2, 3, 4, 5, 6, 7, 8, 9])"
      ]
     },
     "execution_count": 35,
     "metadata": {},
     "output_type": "execute_result"
    }
   ],
   "source": [
    "                # Numpy array Save & Load \n",
    "    \n",
    "import numpy as np\n",
    "\n",
    "n1 = np.array([1,2,3,4,5,6,7,8,9])\n",
    "\n",
    "#np.save(\"save_numPy.npy\",n1) # Saving the NumPy File \n",
    "\n",
    "n2 = np.load(\"save_numPy.npy\") # Loading the Numpy File\n",
    "\n",
    "n2"
   ]
  },
  {
   "cell_type": "code",
   "execution_count": null,
   "id": "cc864882",
   "metadata": {},
   "outputs": [],
   "source": []
  }
 ],
 "metadata": {
  "kernelspec": {
   "display_name": "Python 3 (ipykernel)",
   "language": "python",
   "name": "python3"
  },
  "language_info": {
   "codemirror_mode": {
    "name": "ipython",
    "version": 3
   },
   "file_extension": ".py",
   "mimetype": "text/x-python",
   "name": "python",
   "nbconvert_exporter": "python",
   "pygments_lexer": "ipython3",
   "version": "3.9.13"
  }
 },
 "nbformat": 4,
 "nbformat_minor": 5
}
