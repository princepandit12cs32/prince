{
 "cells": [
  {
   "cell_type": "code",
   "execution_count": 8,
   "id": "324f9501",
   "metadata": {},
   "outputs": [
    {
     "name": "stdout",
     "output_type": "stream",
     "text": [
      "Name in list is ravi\n",
      "Name in list is ram\n",
      "Name in list is raj\n"
     ]
    }
   ],
   "source": [
    "list1=[\"ravi\",\"ram\",\"raj\"]\n",
    "name = 0\n",
    "for namem in list1:\n",
    "    print(\"Name in list is\", list1[name])\n",
    "    name=name+1\n"
   ]
  },
  {
   "cell_type": "code",
   "execution_count": 10,
   "id": "1315dc3a",
   "metadata": {},
   "outputs": [
    {
     "name": "stdout",
     "output_type": "stream",
     "text": [
      "printing list 1\n",
      "printing list 1\n",
      "printing list 2\n",
      "printing list 2\n",
      "printing list 3\n",
      "printing list 3\n",
      "printing list 4\n",
      "printing list 4\n",
      "printing list 5\n",
      "printing list 5\n",
      "printing list 6\n",
      "printing list 6\n",
      "printing list 7\n",
      "printing list 7\n",
      "printing list 8\n",
      "printing list 8\n",
      "printing list 9\n",
      "printing list 9\n",
      "printing list 10\n",
      "printing list 10\n"
     ]
    }
   ],
   "source": [
    "#Nested loop\n",
    "\n",
    "l1 = [1,2,3,4,5,6,7,8,9,10]\n",
    "l2 = [\"Ravi\",\"Siv\"]\n",
    "\n",
    "for i in l1:\n",
    "    for j in l2:\n",
    "        print(\"printing list\",i)"
   ]
  },
  {
   "cell_type": "code",
   "execution_count": 16,
   "id": "1794d6e9",
   "metadata": {},
   "outputs": [
    {
     "name": "stdout",
     "output_type": "stream",
     "text": [
      "2  X  1 = 2\n",
      "2  X  2 = 4\n",
      "2  X  3 = 6\n",
      "2  X  4 = 8\n",
      "2  X  5 = 10\n",
      "2  X  6 = 12\n",
      "2  X  7 = 14\n",
      "2  X  8 = 16\n",
      "2  X  9 = 18\n",
      "2  X  10 = 20\n"
     ]
    }
   ],
   "source": [
    "# 2 ka table\n",
    "#l1 = [1,2,3,4,5,6,7,8,9,10]\n",
    "i = 1\n",
    "n = 2\n",
    "\n",
    "for i in l1:\n",
    "    print(n,\" X \",i,\"=\",i*n)\n"
   ]
  },
  {
   "cell_type": "code",
   "execution_count": 21,
   "id": "eb92347f",
   "metadata": {},
   "outputs": [
    {
     "name": "stdout",
     "output_type": "stream",
     "text": [
      "monday\n",
      "tuesday\n",
      "wednesday\n",
      "thrusday\n",
      "friday\n",
      "saturday\n",
      "sunday\n"
     ]
    },
    {
     "ename": "IndexError",
     "evalue": "list index out of range",
     "output_type": "error",
     "traceback": [
      "\u001b[1;31m---------------------------------------------------------------------------\u001b[0m",
      "\u001b[1;31mIndexError\u001b[0m                                Traceback (most recent call last)",
      "\u001b[1;32m~\\AppData\\Local\\Temp\\ipykernel_5900\\3514950649.py\u001b[0m in \u001b[0;36m<module>\u001b[1;34m\u001b[0m\n\u001b[0;32m      3\u001b[0m \u001b[0mi\u001b[0m\u001b[1;33m=\u001b[0m\u001b[1;36m0\u001b[0m\u001b[1;33m\u001b[0m\u001b[1;33m\u001b[0m\u001b[0m\n\u001b[0;32m      4\u001b[0m \u001b[1;32mwhile\u001b[0m \u001b[0mi\u001b[0m \u001b[1;33m<=\u001b[0m \u001b[0mlen\u001b[0m\u001b[1;33m(\u001b[0m\u001b[0mweak\u001b[0m\u001b[1;33m)\u001b[0m\u001b[1;33m:\u001b[0m\u001b[1;33m\u001b[0m\u001b[1;33m\u001b[0m\u001b[0m\n\u001b[1;32m----> 5\u001b[1;33m     \u001b[0mprint\u001b[0m\u001b[1;33m(\u001b[0m\u001b[0mweak\u001b[0m\u001b[1;33m[\u001b[0m\u001b[0mi\u001b[0m\u001b[1;33m]\u001b[0m\u001b[1;33m)\u001b[0m\u001b[1;33m\u001b[0m\u001b[1;33m\u001b[0m\u001b[0m\n\u001b[0m\u001b[0;32m      6\u001b[0m     \u001b[0mi\u001b[0m \u001b[1;33m=\u001b[0m \u001b[0mi\u001b[0m \u001b[1;33m+\u001b[0m \u001b[1;36m1\u001b[0m\u001b[1;33m\u001b[0m\u001b[1;33m\u001b[0m\u001b[0m\n\u001b[0;32m      7\u001b[0m \u001b[1;33m\u001b[0m\u001b[0m\n",
      "\u001b[1;31mIndexError\u001b[0m: list index out of range"
     ]
    }
   ],
   "source": [
    "weak = ['monday','tuesday','wednesday','thrusday','friday','saturday','sunday']\n",
    "\n",
    "i=0\n",
    "while i <= len(weak) and i != 7:\n",
    "    print(weak[i])\n",
    "    i = i + 1\n",
    "\n"
   ]
  },
  {
   "cell_type": "code",
   "execution_count": null,
   "id": "c9a2f4ab",
   "metadata": {},
   "outputs": [],
   "source": []
  },
  {
   "cell_type": "code",
   "execution_count": null,
   "id": "4de6b8ad",
   "metadata": {},
   "outputs": [],
   "source": []
  }
 ],
 "metadata": {
  "kernelspec": {
   "display_name": "Python 3 (ipykernel)",
   "language": "python",
   "name": "python3"
  },
  "language_info": {
   "codemirror_mode": {
    "name": "ipython",
    "version": 3
   },
   "file_extension": ".py",
   "mimetype": "text/x-python",
   "name": "python",
   "nbconvert_exporter": "python",
   "pygments_lexer": "ipython3",
   "version": "3.9.13"
  }
 },
 "nbformat": 4,
 "nbformat_minor": 5
}
