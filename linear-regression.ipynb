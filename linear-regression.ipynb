{
 "cells": [
  {
   "cell_type": "code",
   "execution_count": 1,
   "id": "d1aa8240",
   "metadata": {},
   "outputs": [],
   "source": [
    "import numpy as np\n",
    "\n",
    "from sklearn.linear_model import LinearRegression\n"
   ]
  },
  {
   "cell_type": "code",
   "execution_count": 24,
   "id": "612ffe85",
   "metadata": {},
   "outputs": [
    {
     "data": {
      "text/plain": [
       "LinearRegression()"
      ]
     },
     "execution_count": 24,
     "metadata": {},
     "output_type": "execute_result"
    }
   ],
   "source": [
    "x = [[12,34],[23,12],[34,56],[13,14]]\n",
    "y = [1,3,4,3]\n",
    "\n",
    "\n",
    "\n",
    "x,y = np.array(x), np.array(y)\n",
    "\n",
    "model = LinearRegression()\n",
    "model.fit(x, y)\n"
   ]
  },
  {
   "cell_type": "code",
   "execution_count": 25,
   "id": "9e4e7a8c",
   "metadata": {},
   "outputs": [
    {
     "name": "stdout",
     "output_type": "stream",
     "text": [
      "cofficient of determination 0.7331486611265006\n"
     ]
    }
   ],
   "source": [
    "r_squar = model.score(x,y)\n",
    "print('cofficient of determination',r_squar)"
   ]
  },
  {
   "cell_type": "code",
   "execution_count": 27,
   "id": "a8f65f3e",
   "metadata": {},
   "outputs": [
    {
     "name": "stdout",
     "output_type": "stream",
     "text": [
      "intercept 0.8741360978203097\n"
     ]
    }
   ],
   "source": [
    "print(\"intercept\",model.intercept_)"
   ]
  },
  {
   "cell_type": "code",
   "execution_count": 29,
   "id": "c0a92290",
   "metadata": {},
   "outputs": [
    {
     "name": "stdout",
     "output_type": "stream",
     "text": [
      "slop [ 0.12892079 -0.0264487 ]\n"
     ]
    }
   ],
   "source": [
    "print('slop',model.coef_)"
   ]
  },
  {
   "cell_type": "code",
   "execution_count": 30,
   "id": "182cbbf9",
   "metadata": {},
   "outputs": [
    {
     "name": "stdout",
     "output_type": "stream",
     "text": [
      "predicted response [1.52192982 3.52192982 3.77631579 2.17982456]\n"
     ]
    }
   ],
   "source": [
    "y_predict = model.predict(x)\n",
    "print(\"predicted response\",y_predict)"
   ]
  },
  {
   "cell_type": "code",
   "execution_count": 31,
   "id": "dd13c4d9",
   "metadata": {},
   "outputs": [
    {
     "name": "stdout",
     "output_type": "stream",
     "text": [
      "Actual value [1 3 4 3]\n",
      "predicted value [1.52192982 3.52192982 3.77631579 2.17982456]\n"
     ]
    }
   ],
   "source": [
    "print(\"Actual value\",y)\n",
    "print(\"predicted value\",y_predict)"
   ]
  },
  {
   "cell_type": "code",
   "execution_count": null,
   "id": "74a2559c",
   "metadata": {},
   "outputs": [],
   "source": []
  }
 ],
 "metadata": {
  "kernelspec": {
   "display_name": "Python 3 (ipykernel)",
   "language": "python",
   "name": "python3"
  },
  "language_info": {
   "codemirror_mode": {
    "name": "ipython",
    "version": 3
   },
   "file_extension": ".py",
   "mimetype": "text/x-python",
   "name": "python",
   "nbconvert_exporter": "python",
   "pygments_lexer": "ipython3",
   "version": "3.9.13"
  }
 },
 "nbformat": 4,
 "nbformat_minor": 5
}
