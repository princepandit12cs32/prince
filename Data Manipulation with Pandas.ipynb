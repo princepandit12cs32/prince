{
 "cells": [
  {
   "cell_type": "code",
   "execution_count": 3,
   "id": "eefc037e",
   "metadata": {},
   "outputs": [],
   "source": [
    "import pandas\n",
    "# Check pandas version\n",
    "pandas.__version__\n",
    "\n",
    "import pandas as pd\n",
    "\n",
    "pd? # display the documentation of pandas\n"
   ]
  },
  {
   "cell_type": "markdown",
   "id": "4d21e8f9",
   "metadata": {},
   "source": [
    "We will start our code sessions with the standard NumPy and Pandas imports:\n"
   ]
  },
  {
   "cell_type": "code",
   "execution_count": 1,
   "id": "f276b48e",
   "metadata": {},
   "outputs": [],
   "source": [
    "import numpy as np\n",
    "import pandas as pd"
   ]
  },
  {
   "cell_type": "markdown",
   "id": "9bec1905",
   "metadata": {},
   "source": [
    "### 01.The Pandas Series Object\n"
   ]
  },
  {
   "cell_type": "code",
   "execution_count": 10,
   "id": "4473b05d",
   "metadata": {},
   "outputs": [
    {
     "data": {
      "text/plain": [
       "RangeIndex(start=0, stop=6, step=1)"
      ]
     },
     "execution_count": 10,
     "metadata": {},
     "output_type": "execute_result"
    }
   ],
   "source": [
    "x = pd.Series([12.3,4,5.5,67,34,3])\n",
    "x\n",
    "\n",
    "x.values # values method extrct the only values of the Series\n",
    "\n",
    "x.index #The index is an array-like object of type pd.Index, which we’ll discuss in more detail momentarily:"
   ]
  },
  {
   "cell_type": "code",
   "execution_count": 12,
   "id": "1c3af1c4",
   "metadata": {},
   "outputs": [
    {
     "data": {
      "text/plain": [
       "1    4.0\n",
       "2    5.5\n",
       "dtype: float64"
      ]
     },
     "execution_count": 12,
     "metadata": {},
     "output_type": "execute_result"
    }
   ],
   "source": [
    "# We can also acess the element by index no.\n",
    "x[0]\n",
    "\n",
    "x[1:3]"
   ]
  },
  {
   "cell_type": "markdown",
   "id": "0899f564",
   "metadata": {},
   "source": [
    "### 02. Series as generalized NumPy array\n"
   ]
  },
  {
   "cell_type": "raw",
   "id": "01803215",
   "metadata": {},
   "source": [
    "This explicit index definition gives the Series object additional capabilities. For example, the index need not be an integer, but can consist of values of any desired type. \n",
    "For example, if we wish, we can use strings as an index:"
   ]
  },
  {
   "cell_type": "code",
   "execution_count": 20,
   "id": "f50e1ca2",
   "metadata": {},
   "outputs": [
    {
     "data": {
      "text/plain": [
       "7    11\n",
       "2    22\n",
       "9    33\n",
       "4    44\n",
       "5    55\n",
       "6    66\n",
       "dtype: int64"
      ]
     },
     "execution_count": 20,
     "metadata": {},
     "output_type": "execute_result"
    }
   ],
   "source": [
    "x1 = pd.Series([1.2,223.3,4,5,6],index=[\"a\",\"b\",\"c\",\"d\",'e'])\n",
    "x1\n",
    "\n",
    "x1[\"c\"]# items can acess as can expected\n",
    "\n",
    "#We can even use noncontiguous or nonsequential indices:\n",
    "\n",
    "x2 = pd.Series([11,22,33,44,55,66],index=[7,2,9,4,5,6])\n",
    "x2"
   ]
  },
  {
   "cell_type": "markdown",
   "id": "9e916440",
   "metadata": {},
   "source": [
    "### 03. Series as specialized dictionary\n"
   ]
  },
  {
   "cell_type": "code",
   "execution_count": 23,
   "id": "44d880e4",
   "metadata": {},
   "outputs": [
    {
     "data": {
      "text/plain": [
       "india    140987897\n",
       "UK        34234563\n",
       "US        98763453\n",
       "dtype: int64"
      ]
     },
     "execution_count": 23,
     "metadata": {},
     "output_type": "execute_result"
    }
   ],
   "source": [
    "population_dict = {\"india\":140987897,'UK':34234563,'US':98763453,'China':203453405}\n",
    "\n",
    "population = pd.Series(population_dict)\n",
    "population\n",
    "\n",
    "population['india']\n",
    "population['india':'US']"
   ]
  },
  {
   "cell_type": "markdown",
   "id": "cdf087f8",
   "metadata": {},
   "source": [
    "### 04. Constructing Series objects\n"
   ]
  },
  {
   "cell_type": "raw",
   "id": "e0117710",
   "metadata": {},
   "source": [
    "We’ve already seen a few ways of constructing a Pandas Series from scratch; all of\n",
    "them are some version of the following:\n",
    ">>> pd.Series(data, index=index)"
   ]
  },
  {
   "cell_type": "code",
   "execution_count": 24,
   "id": "04f83554",
   "metadata": {},
   "outputs": [
    {
     "data": {
      "text/plain": [
       "0    2\n",
       "1    3\n",
       "2    4\n",
       "3    5\n",
       "dtype: int64"
      ]
     },
     "execution_count": 24,
     "metadata": {},
     "output_type": "execute_result"
    }
   ],
   "source": [
    "#data can be a list or NumPy array, in which case index defaults to an integer sequence:\n",
    "pd.Series([2,3,4,5])"
   ]
  },
  {
   "cell_type": "code",
   "execution_count": 25,
   "id": "da4b36d6",
   "metadata": {},
   "outputs": [
    {
     "data": {
      "text/plain": [
       "100    5\n",
       "200    5\n",
       "300    5\n",
       "400    5\n",
       "500    5\n",
       "600    5\n",
       "dtype: int64"
      ]
     },
     "execution_count": 25,
     "metadata": {},
     "output_type": "execute_result"
    }
   ],
   "source": [
    "#data can be a scalar, which is repeated to fill the specified index:\n",
    "\n",
    "pd.Series(5,index=[100,200,300,400,500,600])"
   ]
  },
  {
   "cell_type": "code",
   "execution_count": 29,
   "id": "825629f5",
   "metadata": {},
   "outputs": [
    {
     "data": {
      "text/plain": [
       "1    c\n",
       "2    a\n",
       "3    d\n",
       "dtype: object"
      ]
     },
     "execution_count": 29,
     "metadata": {},
     "output_type": "execute_result"
    }
   ],
   "source": [
    "# data can be a dictionary, in which index defaults to the sorted dictionary keys:\n",
    "\n",
    "pd.Series({2:'a',1:\"c\",3:\"d\"}).sort_index()"
   ]
  },
  {
   "cell_type": "code",
   "execution_count": 31,
   "id": "c0a5c258",
   "metadata": {},
   "outputs": [
    {
     "data": {
      "text/plain": [
       "3    d\n",
       "1    c\n",
       "dtype: object"
      ]
     },
     "execution_count": 31,
     "metadata": {},
     "output_type": "execute_result"
    }
   ],
   "source": [
    "# In each case, the index can be explicitly set if a different result is preferred:\n",
    "pd.Series({2:\"a\",1:\"c\",3:\"d\"},index=[3,1])\n",
    "\n",
    "\n",
    "# Notice that in this case, the Series is populated only with the explicitly identified keys."
   ]
  },
  {
   "cell_type": "markdown",
   "id": "73ee41cf",
   "metadata": {},
   "source": [
    "# The Pandas DataFrame Object\n"
   ]
  },
  {
   "cell_type": "markdown",
   "id": "b7221128",
   "metadata": {},
   "source": [
    "### 01.DataFrame as a generalized NumPy array\n"
   ]
  },
  {
   "cell_type": "code",
   "execution_count": 46,
   "id": "005b1a51",
   "metadata": {},
   "outputs": [
    {
     "name": "stdout",
     "output_type": "stream",
     "text": [
      "       Population     Area\n",
      "Bihar   140987897   234234\n",
      "J&K      34234563   234234\n",
      "UK       98763453    87764\n",
      "UP      203453405  3443222\n"
     ]
    },
    {
     "data": {
      "text/plain": [
       "Index(['Population', 'Area'], dtype='object')"
      ]
     },
     "execution_count": 46,
     "metadata": {},
     "output_type": "execute_result"
    }
   ],
   "source": [
    "population_dict = {\"Bihar\":140987897,'J&K':34234563,'UK':98763453,'UP':203453405}\n",
    "area_dict = {\"Bihar\":234234,\"J&K\":234234,\"UK\":87764,\"UP\":3443222}\n",
    "\n",
    "population = pd.Series(population_dict)\n",
    "area = pd.Series(area_dict)\n",
    "\n",
    "state = pd.DataFrame({\"Population\":population,\"Area\":area}) \n",
    "print(state) # display the table of the DataFrame\n",
    "\n",
    "state.index # display the index of the dataframe\n",
    "\n",
    "state.columns # display the name of total columns\n"
   ]
  },
  {
   "cell_type": "markdown",
   "id": "f3f9e0a4",
   "metadata": {},
   "source": [
    "### 02. DataFrame as specialized dictionary\n"
   ]
  },
  {
   "cell_type": "raw",
   "id": "1cb6b874",
   "metadata": {},
   "source": [
    "Similarly, we can also think of a DataFrame as a specialization of a dictionary. Where a dictionary maps a key to a value, \n",
    "a DataFrame maps a column name to a Series of column data. For example, asking for the 'area' attribute returns the \n",
    "Series object containing the areas we saw earlier:"
   ]
  },
  {
   "cell_type": "code",
   "execution_count": 48,
   "id": "1b16e909",
   "metadata": {},
   "outputs": [
    {
     "data": {
      "text/plain": [
       "Bihar     234234\n",
       "J&K       234234\n",
       "UK         87764\n",
       "UP       3443222\n",
       "Name: Area, dtype: int64"
      ]
     },
     "execution_count": 48,
     "metadata": {},
     "output_type": "execute_result"
    }
   ],
   "source": [
    "state[\"Area\"]"
   ]
  },
  {
   "cell_type": "markdown",
   "id": "593fc8a2",
   "metadata": {},
   "source": [
    "### 03. Constructing DataFrame objects\n"
   ]
  },
  {
   "cell_type": "markdown",
   "id": "e76b7b45",
   "metadata": {},
   "source": [
    "From a single Series object:-"
   ]
  },
  {
   "cell_type": "markdown",
   "id": "fde89346",
   "metadata": {},
   "source": [
    " A DataFrame is a collection of Series objects, and a singlecolumn DataFrame can be constructed \n",
    "from a single Series:"
   ]
  },
  {
   "cell_type": "code",
   "execution_count": 50,
   "id": "e8d5b504",
   "metadata": {},
   "outputs": [
    {
     "data": {
      "text/html": [
       "<div>\n",
       "<style scoped>\n",
       "    .dataframe tbody tr th:only-of-type {\n",
       "        vertical-align: middle;\n",
       "    }\n",
       "\n",
       "    .dataframe tbody tr th {\n",
       "        vertical-align: top;\n",
       "    }\n",
       "\n",
       "    .dataframe thead th {\n",
       "        text-align: right;\n",
       "    }\n",
       "</style>\n",
       "<table border=\"1\" class=\"dataframe\">\n",
       "  <thead>\n",
       "    <tr style=\"text-align: right;\">\n",
       "      <th></th>\n",
       "      <th>population</th>\n",
       "    </tr>\n",
       "  </thead>\n",
       "  <tbody>\n",
       "    <tr>\n",
       "      <th>Bihar</th>\n",
       "      <td>140987897</td>\n",
       "    </tr>\n",
       "    <tr>\n",
       "      <th>J&amp;K</th>\n",
       "      <td>34234563</td>\n",
       "    </tr>\n",
       "    <tr>\n",
       "      <th>UK</th>\n",
       "      <td>98763453</td>\n",
       "    </tr>\n",
       "    <tr>\n",
       "      <th>UP</th>\n",
       "      <td>203453405</td>\n",
       "    </tr>\n",
       "  </tbody>\n",
       "</table>\n",
       "</div>"
      ],
      "text/plain": [
       "       population\n",
       "Bihar   140987897\n",
       "J&K      34234563\n",
       "UK       98763453\n",
       "UP      203453405"
      ]
     },
     "execution_count": 50,
     "metadata": {},
     "output_type": "execute_result"
    }
   ],
   "source": [
    "pd.DataFrame(population,columns=['population'])"
   ]
  },
  {
   "cell_type": "markdown",
   "id": "b2b74a0b",
   "metadata": {},
   "source": [
    "From a list of dicts:- \n",
    "Any list of dictionaries can be made into a DataFrame. We’ll use a simple list comprehension to create some data:"
   ]
  },
  {
   "cell_type": "code",
   "execution_count": 52,
   "id": "047256af",
   "metadata": {},
   "outputs": [
    {
     "data": {
      "text/html": [
       "<div>\n",
       "<style scoped>\n",
       "    .dataframe tbody tr th:only-of-type {\n",
       "        vertical-align: middle;\n",
       "    }\n",
       "\n",
       "    .dataframe tbody tr th {\n",
       "        vertical-align: top;\n",
       "    }\n",
       "\n",
       "    .dataframe thead th {\n",
       "        text-align: right;\n",
       "    }\n",
       "</style>\n",
       "<table border=\"1\" class=\"dataframe\">\n",
       "  <thead>\n",
       "    <tr style=\"text-align: right;\">\n",
       "      <th></th>\n",
       "      <th>a</th>\n",
       "      <th>b</th>\n",
       "    </tr>\n",
       "  </thead>\n",
       "  <tbody>\n",
       "    <tr>\n",
       "      <th>0</th>\n",
       "      <td>0</td>\n",
       "      <td>0</td>\n",
       "    </tr>\n",
       "    <tr>\n",
       "      <th>1</th>\n",
       "      <td>1</td>\n",
       "      <td>2</td>\n",
       "    </tr>\n",
       "    <tr>\n",
       "      <th>2</th>\n",
       "      <td>2</td>\n",
       "      <td>4</td>\n",
       "    </tr>\n",
       "  </tbody>\n",
       "</table>\n",
       "</div>"
      ],
      "text/plain": [
       "   a  b\n",
       "0  0  0\n",
       "1  1  2\n",
       "2  2  4"
      ]
     },
     "execution_count": 52,
     "metadata": {},
     "output_type": "execute_result"
    }
   ],
   "source": [
    "data = [{\"a\":i,'b':i*2} for i in range(3)]\n",
    "pd.DataFrame(data)"
   ]
  },
  {
   "cell_type": "markdown",
   "id": "f8bcea5a",
   "metadata": {},
   "source": [
    "Even if some keys in the dictionary are missing, Pandas will fill them in with NaN (i.e.,\n",
    "“not a number”) values:"
   ]
  },
  {
   "cell_type": "code",
   "execution_count": 57,
   "id": "d42ca1fb",
   "metadata": {},
   "outputs": [
    {
     "data": {
      "text/html": [
       "<div>\n",
       "<style scoped>\n",
       "    .dataframe tbody tr th:only-of-type {\n",
       "        vertical-align: middle;\n",
       "    }\n",
       "\n",
       "    .dataframe tbody tr th {\n",
       "        vertical-align: top;\n",
       "    }\n",
       "\n",
       "    .dataframe thead th {\n",
       "        text-align: right;\n",
       "    }\n",
       "</style>\n",
       "<table border=\"1\" class=\"dataframe\">\n",
       "  <thead>\n",
       "    <tr style=\"text-align: right;\">\n",
       "      <th></th>\n",
       "      <th>a</th>\n",
       "      <th>b</th>\n",
       "      <th>d</th>\n",
       "      <th>c</th>\n",
       "    </tr>\n",
       "  </thead>\n",
       "  <tbody>\n",
       "    <tr>\n",
       "      <th>0</th>\n",
       "      <td>2.0</td>\n",
       "      <td>4</td>\n",
       "      <td>1.3</td>\n",
       "      <td>NaN</td>\n",
       "    </tr>\n",
       "    <tr>\n",
       "      <th>1</th>\n",
       "      <td>NaN</td>\n",
       "      <td>3</td>\n",
       "      <td>13.0</td>\n",
       "      <td>7.0</td>\n",
       "    </tr>\n",
       "  </tbody>\n",
       "</table>\n",
       "</div>"
      ],
      "text/plain": [
       "     a  b     d    c\n",
       "0  2.0  4   1.3  NaN\n",
       "1  NaN  3  13.0  7.0"
      ]
     },
     "execution_count": 57,
     "metadata": {},
     "output_type": "execute_result"
    }
   ],
   "source": [
    "pd.DataFrame([{\"a\":2,\"b\":4,'d':1.3},{\"b\":3,\"c\":7,\"d\":13}])"
   ]
  },
  {
   "cell_type": "markdown",
   "id": "73cf53db",
   "metadata": {},
   "source": [
    "### 01. From a dictionary of Series objects"
   ]
  },
  {
   "cell_type": "code",
   "execution_count": 58,
   "id": "cff01694",
   "metadata": {},
   "outputs": [
    {
     "data": {
      "text/html": [
       "<div>\n",
       "<style scoped>\n",
       "    .dataframe tbody tr th:only-of-type {\n",
       "        vertical-align: middle;\n",
       "    }\n",
       "\n",
       "    .dataframe tbody tr th {\n",
       "        vertical-align: top;\n",
       "    }\n",
       "\n",
       "    .dataframe thead th {\n",
       "        text-align: right;\n",
       "    }\n",
       "</style>\n",
       "<table border=\"1\" class=\"dataframe\">\n",
       "  <thead>\n",
       "    <tr style=\"text-align: right;\">\n",
       "      <th></th>\n",
       "      <th>Population</th>\n",
       "      <th>Area</th>\n",
       "    </tr>\n",
       "  </thead>\n",
       "  <tbody>\n",
       "    <tr>\n",
       "      <th>Bihar</th>\n",
       "      <td>140987897</td>\n",
       "      <td>234234</td>\n",
       "    </tr>\n",
       "    <tr>\n",
       "      <th>J&amp;K</th>\n",
       "      <td>34234563</td>\n",
       "      <td>234234</td>\n",
       "    </tr>\n",
       "    <tr>\n",
       "      <th>UK</th>\n",
       "      <td>98763453</td>\n",
       "      <td>87764</td>\n",
       "    </tr>\n",
       "    <tr>\n",
       "      <th>UP</th>\n",
       "      <td>203453405</td>\n",
       "      <td>3443222</td>\n",
       "    </tr>\n",
       "  </tbody>\n",
       "</table>\n",
       "</div>"
      ],
      "text/plain": [
       "       Population     Area\n",
       "Bihar   140987897   234234\n",
       "J&K      34234563   234234\n",
       "UK       98763453    87764\n",
       "UP      203453405  3443222"
      ]
     },
     "execution_count": 58,
     "metadata": {},
     "output_type": "execute_result"
    }
   ],
   "source": [
    "#As we saw before, a DataFrame can be constructed from a dictionary of Series objects as well:\n",
    "\n",
    "pd.DataFrame({\"Population\":population,\"Area\":area})"
   ]
  },
  {
   "cell_type": "markdown",
   "id": "159f8eb6",
   "metadata": {},
   "source": [
    "### 02. From a two-dimensional NumPy array"
   ]
  },
  {
   "cell_type": "code",
   "execution_count": 85,
   "id": "190892c7",
   "metadata": {},
   "outputs": [
    {
     "data": {
      "text/html": [
       "<div>\n",
       "<style scoped>\n",
       "    .dataframe tbody tr th:only-of-type {\n",
       "        vertical-align: middle;\n",
       "    }\n",
       "\n",
       "    .dataframe tbody tr th {\n",
       "        vertical-align: top;\n",
       "    }\n",
       "\n",
       "    .dataframe thead th {\n",
       "        text-align: right;\n",
       "    }\n",
       "</style>\n",
       "<table border=\"1\" class=\"dataframe\">\n",
       "  <thead>\n",
       "    <tr style=\"text-align: right;\">\n",
       "      <th></th>\n",
       "      <th>column 01</th>\n",
       "      <th>column 02</th>\n",
       "    </tr>\n",
       "  </thead>\n",
       "  <tbody>\n",
       "    <tr>\n",
       "      <th>a</th>\n",
       "      <td>0.956959</td>\n",
       "      <td>0.777306</td>\n",
       "    </tr>\n",
       "    <tr>\n",
       "      <th>b</th>\n",
       "      <td>0.072011</td>\n",
       "      <td>0.591102</td>\n",
       "    </tr>\n",
       "    <tr>\n",
       "      <th>c</th>\n",
       "      <td>0.729132</td>\n",
       "      <td>0.484323</td>\n",
       "    </tr>\n",
       "    <tr>\n",
       "      <th>d</th>\n",
       "      <td>0.732699</td>\n",
       "      <td>0.899321</td>\n",
       "    </tr>\n",
       "  </tbody>\n",
       "</table>\n",
       "</div>"
      ],
      "text/plain": [
       "   column 01  column 02\n",
       "a   0.956959   0.777306\n",
       "b   0.072011   0.591102\n",
       "c   0.729132   0.484323\n",
       "d   0.732699   0.899321"
      ]
     },
     "execution_count": 85,
     "metadata": {},
     "output_type": "execute_result"
    }
   ],
   "source": [
    "# Given a two-dimensional array of data, we can create a DataFrame with any specified column and index names. \n",
    "# If omitted, an integer index will be used for each:\n",
    "\n",
    "pd.DataFrame(np.random.rand(4,2),columns=[\"column 01\",\"column 02\"],index = [\"a\",\"b\",\"c\",\"d\"])"
   ]
  },
  {
   "cell_type": "markdown",
   "id": "91724912",
   "metadata": {},
   "source": [
    "### 03. From a NumPy structured array"
   ]
  },
  {
   "cell_type": "code",
   "execution_count": 92,
   "id": "bb20fb43",
   "metadata": {},
   "outputs": [
    {
     "data": {
      "text/html": [
       "<div>\n",
       "<style scoped>\n",
       "    .dataframe tbody tr th:only-of-type {\n",
       "        vertical-align: middle;\n",
       "    }\n",
       "\n",
       "    .dataframe tbody tr th {\n",
       "        vertical-align: top;\n",
       "    }\n",
       "\n",
       "    .dataframe thead th {\n",
       "        text-align: right;\n",
       "    }\n",
       "</style>\n",
       "<table border=\"1\" class=\"dataframe\">\n",
       "  <thead>\n",
       "    <tr style=\"text-align: right;\">\n",
       "      <th></th>\n",
       "      <th>A</th>\n",
       "      <th>B</th>\n",
       "    </tr>\n",
       "  </thead>\n",
       "  <tbody>\n",
       "    <tr>\n",
       "      <th>0</th>\n",
       "      <td>0</td>\n",
       "      <td>0.0</td>\n",
       "    </tr>\n",
       "    <tr>\n",
       "      <th>1</th>\n",
       "      <td>0</td>\n",
       "      <td>0.0</td>\n",
       "    </tr>\n",
       "    <tr>\n",
       "      <th>2</th>\n",
       "      <td>0</td>\n",
       "      <td>0.0</td>\n",
       "    </tr>\n",
       "    <tr>\n",
       "      <th>3</th>\n",
       "      <td>0</td>\n",
       "      <td>0.0</td>\n",
       "    </tr>\n",
       "    <tr>\n",
       "      <th>4</th>\n",
       "      <td>0</td>\n",
       "      <td>0.0</td>\n",
       "    </tr>\n",
       "    <tr>\n",
       "      <th>5</th>\n",
       "      <td>0</td>\n",
       "      <td>0.0</td>\n",
       "    </tr>\n",
       "    <tr>\n",
       "      <th>6</th>\n",
       "      <td>0</td>\n",
       "      <td>0.0</td>\n",
       "    </tr>\n",
       "    <tr>\n",
       "      <th>7</th>\n",
       "      <td>0</td>\n",
       "      <td>0.0</td>\n",
       "    </tr>\n",
       "    <tr>\n",
       "      <th>8</th>\n",
       "      <td>0</td>\n",
       "      <td>0.0</td>\n",
       "    </tr>\n",
       "    <tr>\n",
       "      <th>9</th>\n",
       "      <td>0</td>\n",
       "      <td>0.0</td>\n",
       "    </tr>\n",
       "    <tr>\n",
       "      <th>10</th>\n",
       "      <td>0</td>\n",
       "      <td>0.0</td>\n",
       "    </tr>\n",
       "    <tr>\n",
       "      <th>11</th>\n",
       "      <td>0</td>\n",
       "      <td>0.0</td>\n",
       "    </tr>\n",
       "    <tr>\n",
       "      <th>12</th>\n",
       "      <td>0</td>\n",
       "      <td>0.0</td>\n",
       "    </tr>\n",
       "  </tbody>\n",
       "</table>\n",
       "</div>"
      ],
      "text/plain": [
       "    A    B\n",
       "0   0  0.0\n",
       "1   0  0.0\n",
       "2   0  0.0\n",
       "3   0  0.0\n",
       "4   0  0.0\n",
       "5   0  0.0\n",
       "6   0  0.0\n",
       "7   0  0.0\n",
       "8   0  0.0\n",
       "9   0  0.0\n",
       "10  0  0.0\n",
       "11  0  0.0\n",
       "12  0  0.0"
      ]
     },
     "execution_count": 92,
     "metadata": {},
     "output_type": "execute_result"
    }
   ],
   "source": [
    "a = np.zeros(3,dtype=[(\"A\",\"i4\"),(\"B\",\"f8\")])\n",
    "a\n",
    "pd.DataFrame(a)                 "
   ]
  },
  {
   "cell_type": "markdown",
   "id": "e1df49c0",
   "metadata": {},
   "source": [
    "# The Pandas Index Object\n"
   ]
  },
  {
   "cell_type": "code",
   "execution_count": 93,
   "id": "797c3254",
   "metadata": {},
   "outputs": [
    {
     "data": {
      "text/plain": [
       "Int64Index([2, 4, 6, 7, 1], dtype='int64')"
      ]
     },
     "execution_count": 93,
     "metadata": {},
     "output_type": "execute_result"
    }
   ],
   "source": [
    "ind = pd.Index([2,4,6,7,1])\n",
    "ind"
   ]
  },
  {
   "cell_type": "markdown",
   "id": "7d63e31e",
   "metadata": {},
   "source": [
    "### 01. Index as immutable array\n"
   ]
  },
  {
   "cell_type": "code",
   "execution_count": 100,
   "id": "b0352035",
   "metadata": {},
   "outputs": [
    {
     "name": "stdout",
     "output_type": "stream",
     "text": [
      "ind shape (5,) \n",
      " ind difference  <bound method Index.difference of Int64Index([2, 4, 6, 7, 1], dtype='int64')> \n",
      " ind data type int64 \n",
      " ind size 5\n"
     ]
    }
   ],
   "source": [
    "ind[1]\n",
    "\n",
    "ind[::2]\n",
    "\n",
    "# Index objects also have many of the attributes familiar from NumPy arrays:\n",
    "\n",
    "print(\"ind shape\",ind.shape,\"\\n ind difference \",ind.difference,\"\\n ind data type\",ind.dtype,\"\\n ind size\",ind.size)"
   ]
  },
  {
   "cell_type": "raw",
   "id": "7b8a1a82",
   "metadata": {},
   "source": [
    "One difference between Index objects and NumPy arrays is that indices are immuta‐ ble—that is, they cannot be modified via the normal means"
   ]
  },
  {
   "cell_type": "code",
   "execution_count": 102,
   "id": "4a685b90",
   "metadata": {},
   "outputs": [
    {
     "ename": "TypeError",
     "evalue": "Index does not support mutable operations",
     "output_type": "error",
     "traceback": [
      "\u001b[1;31m---------------------------------------------------------------------------\u001b[0m",
      "\u001b[1;31mTypeError\u001b[0m                                 Traceback (most recent call last)",
      "\u001b[1;32m~\\AppData\\Local\\Temp\\ipykernel_6528\\3492901494.py\u001b[0m in \u001b[0;36m<module>\u001b[1;34m\u001b[0m\n\u001b[1;32m----> 1\u001b[1;33m \u001b[0mind\u001b[0m\u001b[1;33m[\u001b[0m\u001b[1;36m0\u001b[0m\u001b[1;33m]\u001b[0m\u001b[1;33m=\u001b[0m\u001b[1;36m12\u001b[0m \u001b[1;31m# Get error \"Index does not support mutable operations\"\u001b[0m\u001b[1;33m\u001b[0m\u001b[1;33m\u001b[0m\u001b[0m\n\u001b[0m",
      "\u001b[1;32m~\\anaconda3\\lib\\site-packages\\pandas\\core\\indexes\\base.py\u001b[0m in \u001b[0;36m__setitem__\u001b[1;34m(self, key, value)\u001b[0m\n\u001b[0;32m   5033\u001b[0m     \u001b[1;33m@\u001b[0m\u001b[0mfinal\u001b[0m\u001b[1;33m\u001b[0m\u001b[1;33m\u001b[0m\u001b[0m\n\u001b[0;32m   5034\u001b[0m     \u001b[1;32mdef\u001b[0m \u001b[0m__setitem__\u001b[0m\u001b[1;33m(\u001b[0m\u001b[0mself\u001b[0m\u001b[1;33m,\u001b[0m \u001b[0mkey\u001b[0m\u001b[1;33m,\u001b[0m \u001b[0mvalue\u001b[0m\u001b[1;33m)\u001b[0m\u001b[1;33m:\u001b[0m\u001b[1;33m\u001b[0m\u001b[1;33m\u001b[0m\u001b[0m\n\u001b[1;32m-> 5035\u001b[1;33m         \u001b[1;32mraise\u001b[0m \u001b[0mTypeError\u001b[0m\u001b[1;33m(\u001b[0m\u001b[1;34m\"Index does not support mutable operations\"\u001b[0m\u001b[1;33m)\u001b[0m\u001b[1;33m\u001b[0m\u001b[1;33m\u001b[0m\u001b[0m\n\u001b[0m\u001b[0;32m   5036\u001b[0m \u001b[1;33m\u001b[0m\u001b[0m\n\u001b[0;32m   5037\u001b[0m     \u001b[1;32mdef\u001b[0m \u001b[0m__getitem__\u001b[0m\u001b[1;33m(\u001b[0m\u001b[0mself\u001b[0m\u001b[1;33m,\u001b[0m \u001b[0mkey\u001b[0m\u001b[1;33m)\u001b[0m\u001b[1;33m:\u001b[0m\u001b[1;33m\u001b[0m\u001b[1;33m\u001b[0m\u001b[0m\n",
      "\u001b[1;31mTypeError\u001b[0m: Index does not support mutable operations"
     ]
    }
   ],
   "source": [
    "ind[0]=12 # Get error \"Index does not support mutable operations\""
   ]
  },
  {
   "cell_type": "markdown",
   "id": "1a772571",
   "metadata": {},
   "source": [
    "### 02. Index as ordered set\n"
   ]
  },
  {
   "cell_type": "code",
   "execution_count": 108,
   "id": "18757ae8",
   "metadata": {},
   "outputs": [
    {
     "name": "stdout",
     "output_type": "stream",
     "text": [
      "Intersection    = Int64Index([23, 3, 55], dtype='int64')\n",
      "Union   = Int64Index([1, 2, 3, 4, 5, 12, 23, 44, 55], dtype='int64')\n",
      "Symetric Diffrence  = Int64Index([1, 2, 4, 5, 12, 44], dtype='int64')\n"
     ]
    },
    {
     "name": "stderr",
     "output_type": "stream",
     "text": [
      "C:\\Users\\princ\\AppData\\Local\\Temp\\ipykernel_6528\\1683855554.py:4: FutureWarning: Index.__and__ operating as a set operation is deprecated, in the future this will be a logical operation matching Series.__and__.  Use index.intersection(other) instead.\n",
      "  print(\"Intersection    =\",indA & indB) # intersection\n",
      "C:\\Users\\princ\\AppData\\Local\\Temp\\ipykernel_6528\\1683855554.py:6: FutureWarning: Index.__or__ operating as a set operation is deprecated, in the future this will be a logical operation matching Series.__or__.  Use index.union(other) instead.\n",
      "  print(\"Union   =\",indA | indB) # Union\n",
      "C:\\Users\\princ\\AppData\\Local\\Temp\\ipykernel_6528\\1683855554.py:8: FutureWarning: Index.__xor__ operating as a set operation is deprecated, in the future this will be a logical operation matching Series.__xor__.  Use index.symmetric_difference(other) instead.\n",
      "  print(\"Symetric Diffrence  =\",indA ^ indB) # Symetric diffrence\n"
     ]
    }
   ],
   "source": [
    "indA = pd.Index([12,23,3,4,5,55])\n",
    "indB = pd.Index([1,44,55,2,3,23])\n",
    "\n",
    "print(\"Intersection    =\",indA & indB) # intersection\n",
    "\n",
    "print(\"Union   =\",indA | indB) # Union\n",
    "\n",
    "print(\"Symetric Diffrence  =\",indA ^ indB) # Symetric diffrence"
   ]
  },
  {
   "cell_type": "markdown",
   "id": "2ab17d65",
   "metadata": {},
   "source": [
    "# Data Indexing and Selection\n"
   ]
  },
  {
   "cell_type": "markdown",
   "id": "04dc2691",
   "metadata": {},
   "source": [
    "### 01. Series as dictionary\n"
   ]
  },
  {
   "cell_type": "code",
   "execution_count": 2,
   "id": "6d66fb13",
   "metadata": {},
   "outputs": [
    {
     "data": {
      "text/plain": [
       "a    0.50\n",
       "b    0.30\n",
       "c    0.60\n",
       "d    0.33\n",
       "e    0.15\n",
       "dtype: float64"
      ]
     },
     "execution_count": 2,
     "metadata": {},
     "output_type": "execute_result"
    }
   ],
   "source": [
    "x = pd.Series([0.5,0.3,0.6,0.33,0.15],index=[\"a\",\"b\",\"c\",\"d\",\"e\"])\n",
    "\n",
    "x"
   ]
  },
  {
   "cell_type": "code",
   "execution_count": 15,
   "id": "91a96736",
   "metadata": {},
   "outputs": [
    {
     "name": "stdout",
     "output_type": "stream",
     "text": [
      "a    0.50\n",
      "b    0.30\n",
      "c    0.25\n",
      "d    0.33\n",
      "e    0.15\n",
      "dtype: float64\n"
     ]
    }
   ],
   "source": [
    "x['b'] # Acess  value of the key \"b\"\n",
    "\n",
    "'a' in x # checking the key element in series x\n",
    "\n",
    "x.keys() # extracting the keys in series\n",
    "\n",
    "x.values # extracting the values in series\n",
    "\n",
    "list(x.items()) # extract the elements as list\n",
    "\n",
    "x[\"c\"] = .25 # assigning new value for key 'c'\n",
    "\n",
    "print(x)\n"
   ]
  },
  {
   "cell_type": "markdown",
   "id": "42c5997c",
   "metadata": {},
   "source": [
    "### 02. Series as one-dimensional array\n"
   ]
  },
  {
   "cell_type": "markdown",
   "id": "961bb97e",
   "metadata": {},
   "source": [
    "A Series builds on this dictionary-like interface and provides array-style item selec‐tion via the same basic mechanisms \n",
    "as NumPy arrays—that is, slices, masking, and fancy indexing. Examples of these are as follows:"
   ]
  },
  {
   "cell_type": "code",
   "execution_count": 17,
   "id": "444cd25a",
   "metadata": {},
   "outputs": [
    {
     "data": {
      "text/plain": [
       "a    0.50\n",
       "b    0.30\n",
       "c    0.25\n",
       "dtype: float64"
      ]
     },
     "execution_count": 17,
     "metadata": {},
     "output_type": "execute_result"
    }
   ],
   "source": [
    "# slicing by explicit index\n",
    "\n",
    "x['a':'c']"
   ]
  },
  {
   "cell_type": "code",
   "execution_count": 18,
   "id": "abfed4f1",
   "metadata": {},
   "outputs": [
    {
     "data": {
      "text/plain": [
       "a    0.50\n",
       "b    0.30\n",
       "c    0.25\n",
       "dtype: float64"
      ]
     },
     "execution_count": 18,
     "metadata": {},
     "output_type": "execute_result"
    }
   ],
   "source": [
    "# slicing by implicit integer index\n",
    "x[0:3]"
   ]
  },
  {
   "cell_type": "code",
   "execution_count": 20,
   "id": "8e73e6e1",
   "metadata": {},
   "outputs": [
    {
     "data": {
      "text/plain": [
       "e    0.15\n",
       "dtype: float64"
      ]
     },
     "execution_count": 20,
     "metadata": {},
     "output_type": "execute_result"
    }
   ],
   "source": [
    "# masking\n",
    "\n",
    "x[(x<0.25) & (x<1.0)]"
   ]
  },
  {
   "cell_type": "code",
   "execution_count": 21,
   "id": "732c0e19",
   "metadata": {},
   "outputs": [
    {
     "data": {
      "text/plain": [
       "a    0.50\n",
       "d    0.33\n",
       "dtype: float64"
      ]
     },
     "execution_count": 21,
     "metadata": {},
     "output_type": "execute_result"
    }
   ],
   "source": [
    "# fancy indexing\n",
    "\n",
    "x[['a','d']]"
   ]
  },
  {
   "cell_type": "markdown",
   "id": "cd97fb94",
   "metadata": {},
   "source": [
    "### 03. Indexers: loc, iloc, and ix"
   ]
  },
  {
   "cell_type": "code",
   "execution_count": 25,
   "id": "8d12c088",
   "metadata": {},
   "outputs": [
    {
     "data": {
      "text/plain": [
       "33    c\n",
       "4     d\n",
       "dtype: object"
      ]
     },
     "execution_count": 25,
     "metadata": {},
     "output_type": "execute_result"
    }
   ],
   "source": [
    "data = pd.Series(['a','b','c','d','e'],index=[1,2,33,4,6])\n",
    "data\n",
    "\n",
    "data[1] # explicit index when indexing\n",
    "\n",
    "data[2:4] # implicit index when slicing\n",
    "\n"
   ]
  },
  {
   "cell_type": "markdown",
   "id": "745449fd",
   "metadata": {},
   "source": [
    "First, the loc attribute allows indexing and slicing that always references the explicit\n",
    "index:"
   ]
  },
  {
   "cell_type": "code",
   "execution_count": 32,
   "id": "eed2b14e",
   "metadata": {},
   "outputs": [
    {
     "ename": "KeyError",
     "evalue": "3",
     "output_type": "error",
     "traceback": [
      "\u001b[1;31m---------------------------------------------------------------------------\u001b[0m",
      "\u001b[1;31mKeyError\u001b[0m                                  Traceback (most recent call last)",
      "\u001b[1;32m~\\anaconda3\\lib\\site-packages\\pandas\\core\\indexes\\base.py\u001b[0m in \u001b[0;36mget_loc\u001b[1;34m(self, key, method, tolerance)\u001b[0m\n\u001b[0;32m   3628\u001b[0m             \u001b[1;32mtry\u001b[0m\u001b[1;33m:\u001b[0m\u001b[1;33m\u001b[0m\u001b[1;33m\u001b[0m\u001b[0m\n\u001b[1;32m-> 3629\u001b[1;33m                 \u001b[1;32mreturn\u001b[0m \u001b[0mself\u001b[0m\u001b[1;33m.\u001b[0m\u001b[0m_engine\u001b[0m\u001b[1;33m.\u001b[0m\u001b[0mget_loc\u001b[0m\u001b[1;33m(\u001b[0m\u001b[0mcasted_key\u001b[0m\u001b[1;33m)\u001b[0m\u001b[1;33m\u001b[0m\u001b[1;33m\u001b[0m\u001b[0m\n\u001b[0m\u001b[0;32m   3630\u001b[0m             \u001b[1;32mexcept\u001b[0m \u001b[0mKeyError\u001b[0m \u001b[1;32mas\u001b[0m \u001b[0merr\u001b[0m\u001b[1;33m:\u001b[0m\u001b[1;33m\u001b[0m\u001b[1;33m\u001b[0m\u001b[0m\n",
      "\u001b[1;32m~\\anaconda3\\lib\\site-packages\\pandas\\_libs\\index.pyx\u001b[0m in \u001b[0;36mpandas._libs.index.IndexEngine.get_loc\u001b[1;34m()\u001b[0m\n",
      "\u001b[1;32m~\\anaconda3\\lib\\site-packages\\pandas\\_libs\\index.pyx\u001b[0m in \u001b[0;36mpandas._libs.index.IndexEngine.get_loc\u001b[1;34m()\u001b[0m\n",
      "\u001b[1;32mpandas\\_libs\\hashtable_class_helper.pxi\u001b[0m in \u001b[0;36mpandas._libs.hashtable.Int64HashTable.get_item\u001b[1;34m()\u001b[0m\n",
      "\u001b[1;32mpandas\\_libs\\hashtable_class_helper.pxi\u001b[0m in \u001b[0;36mpandas._libs.hashtable.Int64HashTable.get_item\u001b[1;34m()\u001b[0m\n",
      "\u001b[1;31mKeyError\u001b[0m: 3",
      "\nThe above exception was the direct cause of the following exception:\n",
      "\u001b[1;31mKeyError\u001b[0m                                  Traceback (most recent call last)",
      "\u001b[1;32m~\\AppData\\Local\\Temp\\ipykernel_6356\\2529206824.py\u001b[0m in \u001b[0;36m<module>\u001b[1;34m\u001b[0m\n\u001b[0;32m      1\u001b[0m \u001b[0mdata\u001b[0m\u001b[1;33m.\u001b[0m\u001b[0mloc\u001b[0m\u001b[1;33m[\u001b[0m\u001b[1;36m1\u001b[0m\u001b[1;33m]\u001b[0m\u001b[1;33m\u001b[0m\u001b[1;33m\u001b[0m\u001b[0m\n\u001b[0;32m      2\u001b[0m \u001b[1;33m\u001b[0m\u001b[0m\n\u001b[1;32m----> 3\u001b[1;33m \u001b[0mdata\u001b[0m\u001b[1;33m.\u001b[0m\u001b[0mloc\u001b[0m\u001b[1;33m[\u001b[0m\u001b[1;36m1\u001b[0m\u001b[1;33m:\u001b[0m\u001b[1;36m3\u001b[0m\u001b[1;33m]\u001b[0m\u001b[1;33m\u001b[0m\u001b[1;33m\u001b[0m\u001b[0m\n\u001b[0m",
      "\u001b[1;32m~\\anaconda3\\lib\\site-packages\\pandas\\core\\indexing.py\u001b[0m in \u001b[0;36m__getitem__\u001b[1;34m(self, key)\u001b[0m\n\u001b[0;32m    965\u001b[0m \u001b[1;33m\u001b[0m\u001b[0m\n\u001b[0;32m    966\u001b[0m             \u001b[0mmaybe_callable\u001b[0m \u001b[1;33m=\u001b[0m \u001b[0mcom\u001b[0m\u001b[1;33m.\u001b[0m\u001b[0mapply_if_callable\u001b[0m\u001b[1;33m(\u001b[0m\u001b[0mkey\u001b[0m\u001b[1;33m,\u001b[0m \u001b[0mself\u001b[0m\u001b[1;33m.\u001b[0m\u001b[0mobj\u001b[0m\u001b[1;33m)\u001b[0m\u001b[1;33m\u001b[0m\u001b[1;33m\u001b[0m\u001b[0m\n\u001b[1;32m--> 967\u001b[1;33m             \u001b[1;32mreturn\u001b[0m \u001b[0mself\u001b[0m\u001b[1;33m.\u001b[0m\u001b[0m_getitem_axis\u001b[0m\u001b[1;33m(\u001b[0m\u001b[0mmaybe_callable\u001b[0m\u001b[1;33m,\u001b[0m \u001b[0maxis\u001b[0m\u001b[1;33m=\u001b[0m\u001b[0maxis\u001b[0m\u001b[1;33m)\u001b[0m\u001b[1;33m\u001b[0m\u001b[1;33m\u001b[0m\u001b[0m\n\u001b[0m\u001b[0;32m    968\u001b[0m \u001b[1;33m\u001b[0m\u001b[0m\n\u001b[0;32m    969\u001b[0m     \u001b[1;32mdef\u001b[0m \u001b[0m_is_scalar_access\u001b[0m\u001b[1;33m(\u001b[0m\u001b[0mself\u001b[0m\u001b[1;33m,\u001b[0m \u001b[0mkey\u001b[0m\u001b[1;33m:\u001b[0m \u001b[0mtuple\u001b[0m\u001b[1;33m)\u001b[0m\u001b[1;33m:\u001b[0m\u001b[1;33m\u001b[0m\u001b[1;33m\u001b[0m\u001b[0m\n",
      "\u001b[1;32m~\\anaconda3\\lib\\site-packages\\pandas\\core\\indexing.py\u001b[0m in \u001b[0;36m_getitem_axis\u001b[1;34m(self, key, axis)\u001b[0m\n\u001b[0;32m   1181\u001b[0m         \u001b[1;32mif\u001b[0m \u001b[0misinstance\u001b[0m\u001b[1;33m(\u001b[0m\u001b[0mkey\u001b[0m\u001b[1;33m,\u001b[0m \u001b[0mslice\u001b[0m\u001b[1;33m)\u001b[0m\u001b[1;33m:\u001b[0m\u001b[1;33m\u001b[0m\u001b[1;33m\u001b[0m\u001b[0m\n\u001b[0;32m   1182\u001b[0m             \u001b[0mself\u001b[0m\u001b[1;33m.\u001b[0m\u001b[0m_validate_key\u001b[0m\u001b[1;33m(\u001b[0m\u001b[0mkey\u001b[0m\u001b[1;33m,\u001b[0m \u001b[0maxis\u001b[0m\u001b[1;33m)\u001b[0m\u001b[1;33m\u001b[0m\u001b[1;33m\u001b[0m\u001b[0m\n\u001b[1;32m-> 1183\u001b[1;33m             \u001b[1;32mreturn\u001b[0m \u001b[0mself\u001b[0m\u001b[1;33m.\u001b[0m\u001b[0m_get_slice_axis\u001b[0m\u001b[1;33m(\u001b[0m\u001b[0mkey\u001b[0m\u001b[1;33m,\u001b[0m \u001b[0maxis\u001b[0m\u001b[1;33m=\u001b[0m\u001b[0maxis\u001b[0m\u001b[1;33m)\u001b[0m\u001b[1;33m\u001b[0m\u001b[1;33m\u001b[0m\u001b[0m\n\u001b[0m\u001b[0;32m   1184\u001b[0m         \u001b[1;32melif\u001b[0m \u001b[0mcom\u001b[0m\u001b[1;33m.\u001b[0m\u001b[0mis_bool_indexer\u001b[0m\u001b[1;33m(\u001b[0m\u001b[0mkey\u001b[0m\u001b[1;33m)\u001b[0m\u001b[1;33m:\u001b[0m\u001b[1;33m\u001b[0m\u001b[1;33m\u001b[0m\u001b[0m\n\u001b[0;32m   1185\u001b[0m             \u001b[1;32mreturn\u001b[0m \u001b[0mself\u001b[0m\u001b[1;33m.\u001b[0m\u001b[0m_getbool_axis\u001b[0m\u001b[1;33m(\u001b[0m\u001b[0mkey\u001b[0m\u001b[1;33m,\u001b[0m \u001b[0maxis\u001b[0m\u001b[1;33m=\u001b[0m\u001b[0maxis\u001b[0m\u001b[1;33m)\u001b[0m\u001b[1;33m\u001b[0m\u001b[1;33m\u001b[0m\u001b[0m\n",
      "\u001b[1;32m~\\anaconda3\\lib\\site-packages\\pandas\\core\\indexing.py\u001b[0m in \u001b[0;36m_get_slice_axis\u001b[1;34m(self, slice_obj, axis)\u001b[0m\n\u001b[0;32m   1215\u001b[0m \u001b[1;33m\u001b[0m\u001b[0m\n\u001b[0;32m   1216\u001b[0m         \u001b[0mlabels\u001b[0m \u001b[1;33m=\u001b[0m \u001b[0mobj\u001b[0m\u001b[1;33m.\u001b[0m\u001b[0m_get_axis\u001b[0m\u001b[1;33m(\u001b[0m\u001b[0maxis\u001b[0m\u001b[1;33m)\u001b[0m\u001b[1;33m\u001b[0m\u001b[1;33m\u001b[0m\u001b[0m\n\u001b[1;32m-> 1217\u001b[1;33m         \u001b[0mindexer\u001b[0m \u001b[1;33m=\u001b[0m \u001b[0mlabels\u001b[0m\u001b[1;33m.\u001b[0m\u001b[0mslice_indexer\u001b[0m\u001b[1;33m(\u001b[0m\u001b[0mslice_obj\u001b[0m\u001b[1;33m.\u001b[0m\u001b[0mstart\u001b[0m\u001b[1;33m,\u001b[0m \u001b[0mslice_obj\u001b[0m\u001b[1;33m.\u001b[0m\u001b[0mstop\u001b[0m\u001b[1;33m,\u001b[0m \u001b[0mslice_obj\u001b[0m\u001b[1;33m.\u001b[0m\u001b[0mstep\u001b[0m\u001b[1;33m)\u001b[0m\u001b[1;33m\u001b[0m\u001b[1;33m\u001b[0m\u001b[0m\n\u001b[0m\u001b[0;32m   1218\u001b[0m \u001b[1;33m\u001b[0m\u001b[0m\n\u001b[0;32m   1219\u001b[0m         \u001b[1;32mif\u001b[0m \u001b[0misinstance\u001b[0m\u001b[1;33m(\u001b[0m\u001b[0mindexer\u001b[0m\u001b[1;33m,\u001b[0m \u001b[0mslice\u001b[0m\u001b[1;33m)\u001b[0m\u001b[1;33m:\u001b[0m\u001b[1;33m\u001b[0m\u001b[1;33m\u001b[0m\u001b[0m\n",
      "\u001b[1;32m~\\anaconda3\\lib\\site-packages\\pandas\\core\\indexes\\base.py\u001b[0m in \u001b[0;36mslice_indexer\u001b[1;34m(self, start, end, step, kind)\u001b[0m\n\u001b[0;32m   6286\u001b[0m         \u001b[0mself\u001b[0m\u001b[1;33m.\u001b[0m\u001b[0m_deprecated_arg\u001b[0m\u001b[1;33m(\u001b[0m\u001b[0mkind\u001b[0m\u001b[1;33m,\u001b[0m \u001b[1;34m\"kind\"\u001b[0m\u001b[1;33m,\u001b[0m \u001b[1;34m\"slice_indexer\"\u001b[0m\u001b[1;33m)\u001b[0m\u001b[1;33m\u001b[0m\u001b[1;33m\u001b[0m\u001b[0m\n\u001b[0;32m   6287\u001b[0m \u001b[1;33m\u001b[0m\u001b[0m\n\u001b[1;32m-> 6288\u001b[1;33m         \u001b[0mstart_slice\u001b[0m\u001b[1;33m,\u001b[0m \u001b[0mend_slice\u001b[0m \u001b[1;33m=\u001b[0m \u001b[0mself\u001b[0m\u001b[1;33m.\u001b[0m\u001b[0mslice_locs\u001b[0m\u001b[1;33m(\u001b[0m\u001b[0mstart\u001b[0m\u001b[1;33m,\u001b[0m \u001b[0mend\u001b[0m\u001b[1;33m,\u001b[0m \u001b[0mstep\u001b[0m\u001b[1;33m=\u001b[0m\u001b[0mstep\u001b[0m\u001b[1;33m)\u001b[0m\u001b[1;33m\u001b[0m\u001b[1;33m\u001b[0m\u001b[0m\n\u001b[0m\u001b[0;32m   6289\u001b[0m \u001b[1;33m\u001b[0m\u001b[0m\n\u001b[0;32m   6290\u001b[0m         \u001b[1;31m# return a slice\u001b[0m\u001b[1;33m\u001b[0m\u001b[1;33m\u001b[0m\u001b[0m\n",
      "\u001b[1;32m~\\anaconda3\\lib\\site-packages\\pandas\\core\\indexes\\base.py\u001b[0m in \u001b[0;36mslice_locs\u001b[1;34m(self, start, end, step, kind)\u001b[0m\n\u001b[0;32m   6502\u001b[0m         \u001b[0mend_slice\u001b[0m \u001b[1;33m=\u001b[0m \u001b[1;32mNone\u001b[0m\u001b[1;33m\u001b[0m\u001b[1;33m\u001b[0m\u001b[0m\n\u001b[0;32m   6503\u001b[0m         \u001b[1;32mif\u001b[0m \u001b[0mend\u001b[0m \u001b[1;32mis\u001b[0m \u001b[1;32mnot\u001b[0m \u001b[1;32mNone\u001b[0m\u001b[1;33m:\u001b[0m\u001b[1;33m\u001b[0m\u001b[1;33m\u001b[0m\u001b[0m\n\u001b[1;32m-> 6504\u001b[1;33m             \u001b[0mend_slice\u001b[0m \u001b[1;33m=\u001b[0m \u001b[0mself\u001b[0m\u001b[1;33m.\u001b[0m\u001b[0mget_slice_bound\u001b[0m\u001b[1;33m(\u001b[0m\u001b[0mend\u001b[0m\u001b[1;33m,\u001b[0m \u001b[1;34m\"right\"\u001b[0m\u001b[1;33m)\u001b[0m\u001b[1;33m\u001b[0m\u001b[1;33m\u001b[0m\u001b[0m\n\u001b[0m\u001b[0;32m   6505\u001b[0m         \u001b[1;32mif\u001b[0m \u001b[0mend_slice\u001b[0m \u001b[1;32mis\u001b[0m \u001b[1;32mNone\u001b[0m\u001b[1;33m:\u001b[0m\u001b[1;33m\u001b[0m\u001b[1;33m\u001b[0m\u001b[0m\n\u001b[0;32m   6506\u001b[0m             \u001b[0mend_slice\u001b[0m \u001b[1;33m=\u001b[0m \u001b[0mlen\u001b[0m\u001b[1;33m(\u001b[0m\u001b[0mself\u001b[0m\u001b[1;33m)\u001b[0m\u001b[1;33m\u001b[0m\u001b[1;33m\u001b[0m\u001b[0m\n",
      "\u001b[1;32m~\\anaconda3\\lib\\site-packages\\pandas\\core\\indexes\\base.py\u001b[0m in \u001b[0;36mget_slice_bound\u001b[1;34m(self, label, side, kind)\u001b[0m\n\u001b[0;32m   6415\u001b[0m             \u001b[1;32mexcept\u001b[0m \u001b[0mValueError\u001b[0m\u001b[1;33m:\u001b[0m\u001b[1;33m\u001b[0m\u001b[1;33m\u001b[0m\u001b[0m\n\u001b[0;32m   6416\u001b[0m                 \u001b[1;31m# raise the original KeyError\u001b[0m\u001b[1;33m\u001b[0m\u001b[1;33m\u001b[0m\u001b[0m\n\u001b[1;32m-> 6417\u001b[1;33m                 \u001b[1;32mraise\u001b[0m \u001b[0merr\u001b[0m\u001b[1;33m\u001b[0m\u001b[1;33m\u001b[0m\u001b[0m\n\u001b[0m\u001b[0;32m   6418\u001b[0m \u001b[1;33m\u001b[0m\u001b[0m\n\u001b[0;32m   6419\u001b[0m         \u001b[1;32mif\u001b[0m \u001b[0misinstance\u001b[0m\u001b[1;33m(\u001b[0m\u001b[0mslc\u001b[0m\u001b[1;33m,\u001b[0m \u001b[0mnp\u001b[0m\u001b[1;33m.\u001b[0m\u001b[0mndarray\u001b[0m\u001b[1;33m)\u001b[0m\u001b[1;33m:\u001b[0m\u001b[1;33m\u001b[0m\u001b[1;33m\u001b[0m\u001b[0m\n",
      "\u001b[1;32m~\\anaconda3\\lib\\site-packages\\pandas\\core\\indexes\\base.py\u001b[0m in \u001b[0;36mget_slice_bound\u001b[1;34m(self, label, side, kind)\u001b[0m\n\u001b[0;32m   6409\u001b[0m         \u001b[1;31m# we need to look up the label\u001b[0m\u001b[1;33m\u001b[0m\u001b[1;33m\u001b[0m\u001b[0m\n\u001b[0;32m   6410\u001b[0m         \u001b[1;32mtry\u001b[0m\u001b[1;33m:\u001b[0m\u001b[1;33m\u001b[0m\u001b[1;33m\u001b[0m\u001b[0m\n\u001b[1;32m-> 6411\u001b[1;33m             \u001b[0mslc\u001b[0m \u001b[1;33m=\u001b[0m \u001b[0mself\u001b[0m\u001b[1;33m.\u001b[0m\u001b[0mget_loc\u001b[0m\u001b[1;33m(\u001b[0m\u001b[0mlabel\u001b[0m\u001b[1;33m)\u001b[0m\u001b[1;33m\u001b[0m\u001b[1;33m\u001b[0m\u001b[0m\n\u001b[0m\u001b[0;32m   6412\u001b[0m         \u001b[1;32mexcept\u001b[0m \u001b[0mKeyError\u001b[0m \u001b[1;32mas\u001b[0m \u001b[0merr\u001b[0m\u001b[1;33m:\u001b[0m\u001b[1;33m\u001b[0m\u001b[1;33m\u001b[0m\u001b[0m\n\u001b[0;32m   6413\u001b[0m             \u001b[1;32mtry\u001b[0m\u001b[1;33m:\u001b[0m\u001b[1;33m\u001b[0m\u001b[1;33m\u001b[0m\u001b[0m\n",
      "\u001b[1;32m~\\anaconda3\\lib\\site-packages\\pandas\\core\\indexes\\base.py\u001b[0m in \u001b[0;36mget_loc\u001b[1;34m(self, key, method, tolerance)\u001b[0m\n\u001b[0;32m   3629\u001b[0m                 \u001b[1;32mreturn\u001b[0m \u001b[0mself\u001b[0m\u001b[1;33m.\u001b[0m\u001b[0m_engine\u001b[0m\u001b[1;33m.\u001b[0m\u001b[0mget_loc\u001b[0m\u001b[1;33m(\u001b[0m\u001b[0mcasted_key\u001b[0m\u001b[1;33m)\u001b[0m\u001b[1;33m\u001b[0m\u001b[1;33m\u001b[0m\u001b[0m\n\u001b[0;32m   3630\u001b[0m             \u001b[1;32mexcept\u001b[0m \u001b[0mKeyError\u001b[0m \u001b[1;32mas\u001b[0m \u001b[0merr\u001b[0m\u001b[1;33m:\u001b[0m\u001b[1;33m\u001b[0m\u001b[1;33m\u001b[0m\u001b[0m\n\u001b[1;32m-> 3631\u001b[1;33m                 \u001b[1;32mraise\u001b[0m \u001b[0mKeyError\u001b[0m\u001b[1;33m(\u001b[0m\u001b[0mkey\u001b[0m\u001b[1;33m)\u001b[0m \u001b[1;32mfrom\u001b[0m \u001b[0merr\u001b[0m\u001b[1;33m\u001b[0m\u001b[1;33m\u001b[0m\u001b[0m\n\u001b[0m\u001b[0;32m   3632\u001b[0m             \u001b[1;32mexcept\u001b[0m \u001b[0mTypeError\u001b[0m\u001b[1;33m:\u001b[0m\u001b[1;33m\u001b[0m\u001b[1;33m\u001b[0m\u001b[0m\n\u001b[0;32m   3633\u001b[0m                 \u001b[1;31m# If we have a listlike key, _check_indexing_error will raise\u001b[0m\u001b[1;33m\u001b[0m\u001b[1;33m\u001b[0m\u001b[0m\n",
      "\u001b[1;31mKeyError\u001b[0m: 3"
     ]
    }
   ],
   "source": [
    "\n",
    "data.loc[1]\n",
    "\n",
    "data.loc[1:3]"
   ]
  },
  {
   "cell_type": "markdown",
   "id": "0ea6fa7e",
   "metadata": {},
   "source": [
    "The iloc attribute allows indexing and slicing that always references the implicit\n",
    "Python-style index:"
   ]
  },
  {
   "cell_type": "code",
   "execution_count": 31,
   "id": "7d464e65",
   "metadata": {},
   "outputs": [
    {
     "data": {
      "text/plain": [
       "2     b\n",
       "33    c\n",
       "dtype: object"
      ]
     },
     "execution_count": 31,
     "metadata": {},
     "output_type": "execute_result"
    }
   ],
   "source": [
    "data.iloc[1:3]"
   ]
  },
  {
   "cell_type": "markdown",
   "id": "94eec4b1",
   "metadata": {},
   "source": [
    "# Data Selection in DataFrame"
   ]
  },
  {
   "cell_type": "markdown",
   "id": "985b4e6b",
   "metadata": {},
   "source": [
    "### 01. DataFrame as a dictionary\n"
   ]
  },
  {
   "cell_type": "code",
   "execution_count": 40,
   "id": "09e8c50a",
   "metadata": {},
   "outputs": [
    {
     "name": "stdout",
     "output_type": "stream",
     "text": [
      "           Population   Area\n",
      "Bihar          323432  12342\n",
      "Delhi         8384823  12345\n",
      "Jharkhand      234534  23432\n",
      "UP             654534   2345\n"
     ]
    },
    {
     "data": {
      "text/html": [
       "<div>\n",
       "<style scoped>\n",
       "    .dataframe tbody tr th:only-of-type {\n",
       "        vertical-align: middle;\n",
       "    }\n",
       "\n",
       "    .dataframe tbody tr th {\n",
       "        vertical-align: top;\n",
       "    }\n",
       "\n",
       "    .dataframe thead th {\n",
       "        text-align: right;\n",
       "    }\n",
       "</style>\n",
       "<table border=\"1\" class=\"dataframe\">\n",
       "  <thead>\n",
       "    <tr style=\"text-align: right;\">\n",
       "      <th></th>\n",
       "      <th>Population</th>\n",
       "      <th>Area</th>\n",
       "      <th>Density</th>\n",
       "    </tr>\n",
       "  </thead>\n",
       "  <tbody>\n",
       "    <tr>\n",
       "      <th>Bihar</th>\n",
       "      <td>323432</td>\n",
       "      <td>12342</td>\n",
       "      <td>26.205801</td>\n",
       "    </tr>\n",
       "    <tr>\n",
       "      <th>Delhi</th>\n",
       "      <td>8384823</td>\n",
       "      <td>12345</td>\n",
       "      <td>679.208019</td>\n",
       "    </tr>\n",
       "    <tr>\n",
       "      <th>Jharkhand</th>\n",
       "      <td>234534</td>\n",
       "      <td>23432</td>\n",
       "      <td>10.009133</td>\n",
       "    </tr>\n",
       "    <tr>\n",
       "      <th>UP</th>\n",
       "      <td>654534</td>\n",
       "      <td>2345</td>\n",
       "      <td>279.118977</td>\n",
       "    </tr>\n",
       "  </tbody>\n",
       "</table>\n",
       "</div>"
      ],
      "text/plain": [
       "           Population   Area     Density\n",
       "Bihar          323432  12342   26.205801\n",
       "Delhi         8384823  12345  679.208019\n",
       "Jharkhand      234534  23432   10.009133\n",
       "UP             654534   2345  279.118977"
      ]
     },
     "execution_count": 40,
     "metadata": {},
     "output_type": "execute_result"
    }
   ],
   "source": [
    "population_state = pd.Series({'Bihar':323432,'UP':654534,'Jharkhand':234534,'Delhi':8384823})\n",
    "\n",
    "area_state = pd.Series({\"Bihar\":12342,'Jharkhand':23432,'Delhi':12345,'UP':2345})\n",
    "\n",
    "state = pd.DataFrame({'Population':population_state,'Area':area_state})\n",
    "\n",
    "print(state)\n",
    "\n",
    "state[\"Area\"] # print the area of the state\n",
    "\n",
    "state.Area #Equivalently, we can use attribute-style access with column names that are strings:\n",
    "\n",
    "state[\"Density\"] = state[\"Population\"] / state[\"Area\"]\n",
    "\n",
    "state"
   ]
  },
  {
   "cell_type": "markdown",
   "id": "96feb755",
   "metadata": {},
   "source": [
    "### 02. DataFrame as two-dimensional array\n"
   ]
  },
  {
   "cell_type": "code",
   "execution_count": 41,
   "id": "5d0fc897",
   "metadata": {},
   "outputs": [
    {
     "data": {
      "text/plain": [
       "array([[3.23432000e+05, 1.23420000e+04, 2.62058013e+01],\n",
       "       [8.38482300e+06, 1.23450000e+04, 6.79208019e+02],\n",
       "       [2.34534000e+05, 2.34320000e+04, 1.00091328e+01],\n",
       "       [6.54534000e+05, 2.34500000e+03, 2.79118977e+02]])"
      ]
     },
     "execution_count": 41,
     "metadata": {},
     "output_type": "execute_result"
    }
   ],
   "source": [
    "state.values"
   ]
  },
  {
   "cell_type": "code",
   "execution_count": 42,
   "id": "bcbb8e48",
   "metadata": {},
   "outputs": [
    {
     "data": {
      "text/html": [
       "<div>\n",
       "<style scoped>\n",
       "    .dataframe tbody tr th:only-of-type {\n",
       "        vertical-align: middle;\n",
       "    }\n",
       "\n",
       "    .dataframe tbody tr th {\n",
       "        vertical-align: top;\n",
       "    }\n",
       "\n",
       "    .dataframe thead th {\n",
       "        text-align: right;\n",
       "    }\n",
       "</style>\n",
       "<table border=\"1\" class=\"dataframe\">\n",
       "  <thead>\n",
       "    <tr style=\"text-align: right;\">\n",
       "      <th></th>\n",
       "      <th>Bihar</th>\n",
       "      <th>Delhi</th>\n",
       "      <th>Jharkhand</th>\n",
       "      <th>UP</th>\n",
       "    </tr>\n",
       "  </thead>\n",
       "  <tbody>\n",
       "    <tr>\n",
       "      <th>Population</th>\n",
       "      <td>323432.000000</td>\n",
       "      <td>8.384823e+06</td>\n",
       "      <td>234534.000000</td>\n",
       "      <td>654534.000000</td>\n",
       "    </tr>\n",
       "    <tr>\n",
       "      <th>Area</th>\n",
       "      <td>12342.000000</td>\n",
       "      <td>1.234500e+04</td>\n",
       "      <td>23432.000000</td>\n",
       "      <td>2345.000000</td>\n",
       "    </tr>\n",
       "    <tr>\n",
       "      <th>Density</th>\n",
       "      <td>26.205801</td>\n",
       "      <td>6.792080e+02</td>\n",
       "      <td>10.009133</td>\n",
       "      <td>279.118977</td>\n",
       "    </tr>\n",
       "  </tbody>\n",
       "</table>\n",
       "</div>"
      ],
      "text/plain": [
       "                    Bihar         Delhi      Jharkhand             UP\n",
       "Population  323432.000000  8.384823e+06  234534.000000  654534.000000\n",
       "Area         12342.000000  1.234500e+04   23432.000000    2345.000000\n",
       "Density         26.205801  6.792080e+02      10.009133     279.118977"
      ]
     },
     "execution_count": 42,
     "metadata": {},
     "output_type": "execute_result"
    }
   ],
   "source": [
    "state.T  # swap row into column"
   ]
  },
  {
   "cell_type": "markdown",
   "id": "5def4bff",
   "metadata": {},
   "source": [
    "state.values[0]     # extract the 1st row\n",
    "\n",
    "\n",
    "state.iloc[0:3,0:3] # extract the row with respect to column(called slicing)"
   ]
  },
  {
   "cell_type": "markdown",
   "id": "8fa0dcdc",
   "metadata": {},
   "source": [
    "###  03. Additional indexing conventions\n"
   ]
  },
  {
   "cell_type": "code",
   "execution_count": 53,
   "id": "b108bc5c",
   "metadata": {},
   "outputs": [
    {
     "data": {
      "text/html": [
       "<div>\n",
       "<style scoped>\n",
       "    .dataframe tbody tr th:only-of-type {\n",
       "        vertical-align: middle;\n",
       "    }\n",
       "\n",
       "    .dataframe tbody tr th {\n",
       "        vertical-align: top;\n",
       "    }\n",
       "\n",
       "    .dataframe thead th {\n",
       "        text-align: right;\n",
       "    }\n",
       "</style>\n",
       "<table border=\"1\" class=\"dataframe\">\n",
       "  <thead>\n",
       "    <tr style=\"text-align: right;\">\n",
       "      <th></th>\n",
       "      <th>Population</th>\n",
       "      <th>Area</th>\n",
       "      <th>Density</th>\n",
       "    </tr>\n",
       "  </thead>\n",
       "  <tbody>\n",
       "    <tr>\n",
       "      <th>Delhi</th>\n",
       "      <td>8384823</td>\n",
       "      <td>12345</td>\n",
       "      <td>679.208019</td>\n",
       "    </tr>\n",
       "    <tr>\n",
       "      <th>UP</th>\n",
       "      <td>654534</td>\n",
       "      <td>2345</td>\n",
       "      <td>279.118977</td>\n",
       "    </tr>\n",
       "  </tbody>\n",
       "</table>\n",
       "</div>"
      ],
      "text/plain": [
       "       Population   Area     Density\n",
       "Delhi     8384823  12345  679.208019\n",
       "UP         654534   2345  279.118977"
      ]
     },
     "execution_count": 53,
     "metadata": {},
     "output_type": "execute_result"
    }
   ],
   "source": [
    "state['Bihar':\"Delhi\"] # print the slic of the index\n",
    "\n",
    "state[0:2] # here integer slic index is used for print the table\n",
    "\n",
    "state[state.Density>100] # Similarly, direct masking operations are also interpreted row-wise rather than column-wise:"
   ]
  },
  {
   "cell_type": "markdown",
   "id": "e4fddb86",
   "metadata": {},
   "source": [
    "### 04. Operating on Data in Pandas\n"
   ]
  },
  {
   "cell_type": "code",
   "execution_count": null,
   "id": "137608b9",
   "metadata": {},
   "outputs": [],
   "source": []
  }
 ],
 "metadata": {
  "kernelspec": {
   "display_name": "Python 3 (ipykernel)",
   "language": "python",
   "name": "python3"
  },
  "language_info": {
   "codemirror_mode": {
    "name": "ipython",
    "version": 3
   },
   "file_extension": ".py",
   "mimetype": "text/x-python",
   "name": "python",
   "nbconvert_exporter": "python",
   "pygments_lexer": "ipython3",
   "version": "3.9.13"
  }
 },
 "nbformat": 4,
 "nbformat_minor": 5
}
