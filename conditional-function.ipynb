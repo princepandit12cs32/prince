{
 "cells": [
  {
   "cell_type": "code",
   "execution_count": 9,
   "id": "8987aa6f",
   "metadata": {},
   "outputs": [
    {
     "name": "stdout",
     "output_type": "stream",
     "text": [
      "Colour in list1 is orange\n"
     ]
    }
   ],
   "source": [
    "list1 = ['orange','red','blue','black','white']\n",
    "i = 0\n",
    "if list1[0] == 'orange':\n",
    "    print(\"Colour in list1 is\",list1[0])\n",
    "    i = i + 1\n",
    "else:\n",
    "    print(\"No colour in list1\")"
   ]
  },
  {
   "cell_type": "code",
   "execution_count": 15,
   "id": "849f5207",
   "metadata": {},
   "outputs": [
    {
     "name": "stdout",
     "output_type": "stream",
     "text": [
      "a is greatest no.\n"
     ]
    }
   ],
   "source": [
    "a=105\n",
    "b=103\n",
    "c=23\n",
    "\n",
    "if a>b and a>c :\n",
    "    print(\"a is greatest no.\")\n",
    "elif b>a and b>c :\n",
    "    print(\"b is greatest no.\")\n",
    "else:\n",
    "    print(\"c is greatest no.\")"
   ]
  },
  {
   "cell_type": "code",
   "execution_count": null,
   "id": "66dc054f",
   "metadata": {},
   "outputs": [],
   "source": []
  },
  {
   "cell_type": "code",
   "execution_count": null,
   "id": "4537b812",
   "metadata": {},
   "outputs": [],
   "source": []
  }
 ],
 "metadata": {
  "kernelspec": {
   "display_name": "Python 3 (ipykernel)",
   "language": "python",
   "name": "python3"
  },
  "language_info": {
   "codemirror_mode": {
    "name": "ipython",
    "version": 3
   },
   "file_extension": ".py",
   "mimetype": "text/x-python",
   "name": "python",
   "nbconvert_exporter": "python",
   "pygments_lexer": "ipython3",
   "version": "3.9.13"
  }
 },
 "nbformat": 4,
 "nbformat_minor": 5
}
