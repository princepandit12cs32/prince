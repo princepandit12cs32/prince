{
 "cells": [
  {
   "cell_type": "code",
   "execution_count": 9,
   "id": "ce9d345b",
   "metadata": {},
   "outputs": [
    {
     "name": "stdout",
     "output_type": "stream",
     "text": [
      "[0, 1, 2, 3, 4, 5, 6, 7, 8, 9]\n"
     ]
    },
    {
     "data": {
      "text/plain": [
       "int"
      ]
     },
     "execution_count": 9,
     "metadata": {},
     "output_type": "execute_result"
    }
   ],
   "source": [
    "# Integer list\n",
    "\n",
    "\n",
    "l=list(range(10))\n",
    "print(l)\n",
    "type(l[2])"
   ]
  },
  {
   "cell_type": "code",
   "execution_count": 10,
   "id": "1a9217c9",
   "metadata": {},
   "outputs": [
    {
     "name": "stdout",
     "output_type": "stream",
     "text": [
      "['0', '1', '2', '3', '4', '5', '6', '7', '8', '9']\n"
     ]
    },
    {
     "data": {
      "text/plain": [
       "str"
      ]
     },
     "execution_count": 10,
     "metadata": {},
     "output_type": "execute_result"
    }
   ],
   "source": [
    "# String List (convert the integer list into string list)\n",
    "\n",
    "l2=list(str(c) for c in l)\n",
    "\n",
    "print(l2)\n",
    "type(l2[2])"
   ]
  },
  {
   "cell_type": "code",
   "execution_count": 12,
   "id": "368df0d6",
   "metadata": {},
   "outputs": [
    {
     "data": {
      "text/plain": [
       "[bool, float, int, str]"
      ]
     },
     "execution_count": 12,
     "metadata": {},
     "output_type": "execute_result"
    }
   ],
   "source": [
    "# Creating heterogeneous list\n",
    "\n",
    "\n",
    "l3 = [True,3.4,23,\"Prince\"]\n",
    "\n",
    "l3 = [type(item) for item in l3]\n",
    "l3"
   ]
  },
  {
   "cell_type": "code",
   "execution_count": 18,
   "id": "512f2bf7",
   "metadata": {},
   "outputs": [
    {
     "name": "stdout",
     "output_type": "stream",
     "text": [
      "array('i', [0, 1, 2, 3, 4, 5, 6, 7, 8, 9])\n"
     ]
    }
   ],
   "source": [
    "# Fixed-Type Arrays in Python\n",
    "import array\n",
    "\n",
    "l = list(range(10))\n",
    "a = array.array('i',l)\n",
    "print(a)"
   ]
  },
  {
   "cell_type": "code",
   "execution_count": 26,
   "id": "9ef11ee0",
   "metadata": {},
   "outputs": [
    {
     "data": {
      "text/plain": [
       "array([12.2,  3. ,  4.5])"
      ]
     },
     "execution_count": 26,
     "metadata": {},
     "output_type": "execute_result"
    }
   ],
   "source": [
    "# Creating Arrays from Python Lists\n",
    "\n",
    "import numpy as np\n",
    "\n",
    "np.array([1,2,3,4,11,2]) # print this line integer array\n",
    "\n",
    "np.array([1,2,3,4,11,2], dtype='float64') # print this line of code convert int to float array\n",
    "\n",
    "np.array([12.2,3,4.5]) # print this line integer array"
   ]
  },
  {
   "cell_type": "code",
   "execution_count": 20,
   "id": "689bf984",
   "metadata": {},
   "outputs": [
    {
     "data": {
      "text/plain": [
       "array([ 12,  34,   4,   5, 232,  23])"
      ]
     },
     "execution_count": 20,
     "metadata": {},
     "output_type": "execute_result"
    }
   ],
   "source": [
    "# Creating Arrays from Python tuple\n",
    "\n",
    "\n",
    "np.array((12,34,4,5,232,23))"
   ]
  },
  {
   "cell_type": "code",
   "execution_count": 28,
   "id": "2769b770",
   "metadata": {},
   "outputs": [
    {
     "data": {
      "text/plain": [
       "array([[2, 3, 4],\n",
       "       [4, 5, 6],\n",
       "       [6, 7, 8]])"
      ]
     },
     "execution_count": 28,
     "metadata": {},
     "output_type": "execute_result"
    }
   ],
   "source": [
    "# nested lists result in multidimensional arrays\n",
    "\n",
    "np.array([range(i,i+3) for i in [2,4,6]])"
   ]
  },
  {
   "cell_type": "markdown",
   "id": "5771d528",
   "metadata": {},
   "source": [
    "#### Creating Arrays from Scratch"
   ]
  },
  {
   "cell_type": "code",
   "execution_count": 30,
   "id": "07df23c3",
   "metadata": {},
   "outputs": [
    {
     "data": {
      "text/plain": [
       "array([0, 0, 0, 0, 0, 0, 0, 0, 0, 0])"
      ]
     },
     "execution_count": 30,
     "metadata": {},
     "output_type": "execute_result"
    }
   ],
   "source": [
    "# Creating array filling with zero\n",
    "\n",
    "import numpy as np\n",
    "\n",
    "np.zeros(10,dtype=\"int\")"
   ]
  },
  {
   "cell_type": "code",
   "execution_count": 33,
   "id": "433d2400",
   "metadata": {},
   "outputs": [
    {
     "data": {
      "text/plain": [
       "array([[1., 1., 1., 1., 1.],\n",
       "       [1., 1., 1., 1., 1.],\n",
       "       [1., 1., 1., 1., 1.]])"
      ]
     },
     "execution_count": 33,
     "metadata": {},
     "output_type": "execute_result"
    }
   ],
   "source": [
    "# Create a 3x5 floating-point array filled with 1s\n",
    "\n",
    "np.ones((3,5),dtype=\"int\") # this lines of code print integer array\n",
    "np.ones((3,5))    # this lines of code print float array"
   ]
  },
  {
   "cell_type": "code",
   "execution_count": 35,
   "id": "7995e193",
   "metadata": {},
   "outputs": [
    {
     "data": {
      "text/plain": [
       "array([[3.14, 3.14, 3.14, 3.14, 3.14],\n",
       "       [3.14, 3.14, 3.14, 3.14, 3.14],\n",
       "       [3.14, 3.14, 3.14, 3.14, 3.14],\n",
       "       [3.14, 3.14, 3.14, 3.14, 3.14],\n",
       "       [3.14, 3.14, 3.14, 3.14, 3.14]])"
      ]
     },
     "execution_count": 35,
     "metadata": {},
     "output_type": "execute_result"
    }
   ],
   "source": [
    "# Create a 5x5 array filled with 3.14\n",
    "\n",
    "np.full((5,5),3.14)"
   ]
  },
  {
   "cell_type": "code",
   "execution_count": 36,
   "id": "623a4d1e",
   "metadata": {},
   "outputs": [
    {
     "data": {
      "text/plain": [
       "array([ 0,  2,  4,  6,  8, 10, 12, 14, 16, 18])"
      ]
     },
     "execution_count": 36,
     "metadata": {},
     "output_type": "execute_result"
    }
   ],
   "source": [
    "# Create an array filled with a linear sequence\n",
    "# Starting at 0, ending at 20, stepping by 2\n",
    "# (this is similar to the built-in range() function)\n",
    "\n",
    "\n",
    "np.arange(0,20,2)"
   ]
  },
  {
   "cell_type": "code",
   "execution_count": 42,
   "id": "e4cc3cba",
   "metadata": {},
   "outputs": [
    {
     "data": {
      "text/plain": [
       "array([0.        , 0.16666667, 0.33333333, 0.5       , 0.66666667,\n",
       "       0.83333333, 1.        ])"
      ]
     },
     "execution_count": 42,
     "metadata": {},
     "output_type": "execute_result"
    }
   ],
   "source": [
    "# Create an array of five values evenly spaced between 0 and 1\n",
    "\n",
    "np.linspace(0,1,5)\n",
    "\n",
    "# Create an array of seven values evenly spaced between 0 and 1\n",
    "\n",
    "np.linspace(0,1,7)"
   ]
  },
  {
   "cell_type": "code",
   "execution_count": 47,
   "id": "5fe86348",
   "metadata": {},
   "outputs": [
    {
     "data": {
      "text/plain": [
       "array([[0.55079461, 0.36446205, 0.6847142 ],\n",
       "       [0.25731384, 0.44075226, 0.90771828],\n",
       "       [0.92930485, 0.603261  , 0.01946195]])"
      ]
     },
     "execution_count": 47,
     "metadata": {},
     "output_type": "execute_result"
    }
   ],
   "source": [
    "# Create a 3x3 array of uniformly distributed\n",
    "# random values between 0 and 1\n",
    "\n",
    "\n",
    "np.random.random((3,3))"
   ]
  },
  {
   "cell_type": "code",
   "execution_count": 51,
   "id": "c058d26d",
   "metadata": {},
   "outputs": [
    {
     "data": {
      "text/plain": [
       "array([[-0.97243155, -0.55201879,  1.43519889],\n",
       "       [ 1.07907969,  0.2704913 ,  0.21655945],\n",
       "       [-1.23025182,  0.01209738,  0.64325088]])"
      ]
     },
     "execution_count": 51,
     "metadata": {},
     "output_type": "execute_result"
    }
   ],
   "source": [
    "# Create a 3x3 array of normally distributed random values\n",
    "# with mean 0 and standard deviation 1\n",
    "\n",
    "\n",
    "np.random.normal(0,1,(3,3))"
   ]
  },
  {
   "cell_type": "code",
   "execution_count": 58,
   "id": "53ffc4da",
   "metadata": {},
   "outputs": [
    {
     "data": {
      "text/plain": [
       "array([[1, 5, 4],\n",
       "       [2, 6, 1],\n",
       "       [8, 2, 9]])"
      ]
     },
     "execution_count": 58,
     "metadata": {},
     "output_type": "execute_result"
    }
   ],
   "source": [
    "# Create a 3x3 array of random integers in the interval [0, 10)\n",
    "\n",
    "np.random.randint(1,10,(3,3))\n"
   ]
  },
  {
   "cell_type": "code",
   "execution_count": 62,
   "id": "c7ebf753",
   "metadata": {},
   "outputs": [
    {
     "data": {
      "text/plain": [
       "array([[1., 0., 0.],\n",
       "       [0., 1., 0.],\n",
       "       [0., 0., 1.]])"
      ]
     },
     "execution_count": 62,
     "metadata": {},
     "output_type": "execute_result"
    }
   ],
   "source": [
    "# Create a 3x3 identity matrix\n",
    "\n",
    "np.eye(3)"
   ]
  },
  {
   "cell_type": "code",
   "execution_count": 65,
   "id": "38d5896b",
   "metadata": {},
   "outputs": [
    {
     "data": {
      "text/plain": [
       "array([1., 1., 1., 1.])"
      ]
     },
     "execution_count": 65,
     "metadata": {},
     "output_type": "execute_result"
    }
   ],
   "source": [
    "# Create an uninitialized array of three integers\n",
    "# The values will be whatever happens to already exist at that\n",
    "# memory location\n",
    "\n",
    "np.empty(4)"
   ]
  },
  {
   "cell_type": "markdown",
   "id": "eded0739",
   "metadata": {},
   "source": [
    "# The Basics of NumPy Arrays"
   ]
  },
  {
   "cell_type": "raw",
   "id": "f42a1c73",
   "metadata": {},
   "source": [
    "We’ll cover a few categories of basic array manipulations here:\n",
    "\n",
    "01. Attributes of arrays\n",
    "Determining the size, shape, memory consumption, and data types of arrays\n",
    "\n",
    "02. Indexing of arrays\n",
    "Getting and setting the value of individual array elements\n",
    "\n",
    "03. Slicing of arrays\n",
    "Getting and setting smaller subarrays within a larger array\n",
    "\n",
    "04. Reshaping of arrays\n",
    "Changing the shape of a given array\n",
    "\n",
    "05. Joining and splitting of arrays\n",
    "Combining multiple arrays into one, and splitting one array into many"
   ]
  },
  {
   "cell_type": "code",
   "execution_count": 18,
   "id": "ef51cc5d",
   "metadata": {},
   "outputs": [
    {
     "name": "stdout",
     "output_type": "stream",
     "text": [
      "[[[6 8 8 1]\n",
      "  [6 7 7 8]\n",
      "  [1 5 9 8]]\n",
      "\n",
      " [[9 4 3 0]\n",
      "  [3 5 0 2]\n",
      "  [3 8 1 3]]]\n",
      "ndim 3\n",
      "shape (2, 3, 4)\n",
      "Size 24\n"
     ]
    }
   ],
   "source": [
    "# 01 NumPy Array attributes\n",
    "\n",
    "import numpy as np\n",
    "\n",
    "np.random.seed(0) # seed for reproduciblity\n",
    "\n",
    "\n",
    "x1 = np.random.randint(10,size=5) # one diamentional array\n",
    "#print(x1)\n",
    "\n",
    "x2 = np.random.randint(10,size=(2,3)) # two dimentional array\n",
    "\n",
    "#print(x2)\n",
    "\n",
    "\n",
    "\n",
    "x3 = np.random.randint(10,size=(2,3,4)) #three dimentional array\n",
    "print(x3)\n",
    "\n",
    "\n",
    "print(\"ndim\",x3.ndim)\n",
    "print(\"shape\",x3.shape)\n",
    "print(\"Size\",x3.size)"
   ]
  },
  {
   "cell_type": "code",
   "execution_count": null,
   "id": "2889c61c",
   "metadata": {},
   "outputs": [],
   "source": []
  },
  {
   "cell_type": "code",
   "execution_count": 4,
   "id": "732bca51",
   "metadata": {},
   "outputs": [
    {
     "name": "stdout",
     "output_type": "stream",
     "text": [
      "[[13 10  8]]\n",
      "\n",
      "[[13]\n",
      " [10]\n",
      " [ 8]]\n"
     ]
    }
   ],
   "source": [
    "## Reshaping\n",
    "\n",
    "\n",
    "import numpy as np\n",
    "\n",
    "x1 = np.random.randint(15,size=(1,3))\n",
    "print(x1)\n",
    "print()\n",
    "\n",
    "x2 = x1.reshape(3,1) # convert row in to column\n",
    "\n",
    "print(x2)"
   ]
  },
  {
   "cell_type": "markdown",
   "id": "0b08afa7",
   "metadata": {},
   "source": [
    "## Array Concatenation and Splitting\n",
    " "
   ]
  },
  {
   "cell_type": "markdown",
   "id": "855bfb82",
   "metadata": {},
   "source": [
    "### 01. Concatenation of arrays\n",
    " "
   ]
  },
  {
   "cell_type": "code",
   "execution_count": 8,
   "id": "40ce9153",
   "metadata": {},
   "outputs": [
    {
     "data": {
      "text/plain": [
       "array([  1. ,   2. ,   3. ,   4. ,  22. ,   2. ,   3.2,  34. ,  21. ,\n",
       "       223. , 434. ,  12. , 323. ])"
      ]
     },
     "execution_count": 8,
     "metadata": {},
     "output_type": "execute_result"
    }
   ],
   "source": [
    "import numpy as np\n",
    "\n",
    "x = np.array([1,2,3,4])\n",
    "y = np.array([22,2,3.2,34])\n",
    "\n",
    "np.concatenate([x,y])\n",
    "\n",
    "z = np.array([21,223,434,12,323])\n",
    "\n",
    "np.concatenate([x,y,z]) # concadinating more than two arrays"
   ]
  },
  {
   "cell_type": "code",
   "execution_count": 11,
   "id": "7d0ae206",
   "metadata": {},
   "outputs": [
    {
     "data": {
      "text/plain": [
       "array([[ 12,  23, 131,  11,  12,  23, 131,  11],\n",
       "       [  5,   6,   3,   3,   5,   6,   3,   3]])"
      ]
     },
     "execution_count": 11,
     "metadata": {},
     "output_type": "execute_result"
    }
   ],
   "source": [
    "# np.concatenate can also be used for two-dimensional arrays:\n",
    "grid = np.array([[12,23,131,11],[5,6,3,3]])\n",
    "\n",
    "np.concatenate([grid,grid]) ## concatenate along the first axis\n",
    "\n",
    "np.concatenate([grid,grid],axis=1) # concatenate along the second axis (zero-indexed)\n"
   ]
  },
  {
   "cell_type": "markdown",
   "id": "a8916f97",
   "metadata": {},
   "source": [
    "For working with arrays of mixed dimensions, it can be clearer to use the np.vstack\n",
    "(vertical stack) and np.hstack (horizontal stack) functions:\n"
   ]
  },
  {
   "cell_type": "code",
   "execution_count": 20,
   "id": "4b15c2f4",
   "metadata": {},
   "outputs": [
    {
     "name": "stdout",
     "output_type": "stream",
     "text": [
      "-----------------------Print vertical stack-------------------------------\n",
      "[[ 99  99  99 100]\n",
      " [ 12  23  12  32]\n",
      " [ 45 655  45   3]]\n",
      "-----------------------Print Horizontal stack-------------------------------\n",
      "[[100  12  23  12  32 100]\n",
      " [100  45 655  45   3 100]]\n"
     ]
    }
   ],
   "source": [
    "a = np.array([99,99,99,100])\n",
    "\n",
    "grid = np.array([[12,23,12,32],[45,655,45,3]])\n",
    "\n",
    "print(\"-----------------------Print vertical stack-------------------------------\")\n",
    "\n",
    "print(np.vstack([a,grid]))  # vertical stack is add elements by vertical \n",
    "\n",
    "print(\"-----------------------Print Horizontal stack-------------------------------\")\n",
    "\n",
    "b = np.array([[100],[100]])\n",
    "\n",
    "print(np.hstack([b,grid,b])) # horizontal stack is add elements by horizontal\n"
   ]
  },
  {
   "cell_type": "markdown",
   "id": "91410454",
   "metadata": {},
   "source": [
    "### 02. Splitting of arrays\n",
    " "
   ]
  },
  {
   "cell_type": "code",
   "execution_count": 28,
   "id": "f31ac9ff",
   "metadata": {},
   "outputs": [
    {
     "name": "stdout",
     "output_type": "stream",
     "text": [
      "[12 23 11] [44 34] [54 55  6] [0 5]\n"
     ]
    }
   ],
   "source": [
    "x = [12,23,11,44,34,54,55,6,0,5]\n",
    "\n",
    "x1,x2,x3,x4 = np.split(x,[3,5,8])\n",
    "\n",
    "print(x1,x2,x3,x4)"
   ]
  },
  {
   "cell_type": "markdown",
   "id": "077badbc",
   "metadata": {},
   "source": [
    "Notice that N split points lead to N + 1 subarrays. The related functions np.hsplit\n",
    "and np.vsplit are similar:"
   ]
  },
  {
   "cell_type": "code",
   "execution_count": 43,
   "id": "920fdb43",
   "metadata": {},
   "outputs": [
    {
     "name": "stdout",
     "output_type": "stream",
     "text": [
      "[[ 0  1  2  3]\n",
      " [ 4  5  6  7]\n",
      " [ 8  9 10 11]\n",
      " [12 13 14 15]]\n",
      "---------------------Print Upper Row -----------------------\n",
      "[[0 1 2 3]\n",
      " [4 5 6 7]]\n",
      "---------------------Print Lower Row -----------------------\n",
      "[[ 8  9 10 11]\n",
      " [12 13 14 15]]\n",
      "[[ 0  1]\n",
      " [ 4  5]\n",
      " [ 8  9]\n",
      " [12 13]]\n",
      "[[ 2  3]\n",
      " [ 6  7]\n",
      " [10 11]\n",
      " [14 15]]\n"
     ]
    }
   ],
   "source": [
    "a = np.arange(16).reshape(4,4)\n",
    "print(a)\n",
    "\n",
    "\n",
    "upper,lower = np.vsplit(a,[2])\n",
    "print(\"---------------------Print Upper Row -----------------------\")\n",
    "print(upper)\n",
    "print(\"---------------------Print Lower Row -----------------------\")\n",
    "print(lower)\n",
    "\n",
    "\n",
    "left,right = np.hsplit(a,[2])\n",
    "\n",
    "print(left)# print the left column \n",
    "print(right)# print the remaining(right) column"
   ]
  },
  {
   "cell_type": "markdown",
   "id": "eb122311",
   "metadata": {},
   "source": [
    "# Array arithmetic\n"
   ]
  },
  {
   "cell_type": "code",
   "execution_count": 46,
   "id": "faf5b33f",
   "metadata": {},
   "outputs": [
    {
     "name": "stdout",
     "output_type": "stream",
     "text": [
      "x   = [0 1 2 3 4 5]\n",
      "x+5 = [ 5  6  7  8  9 10]\n",
      "x-3 = [-3 -2 -1  0  1  2]\n",
      "x*2 = [ 0  2  4  6  8 10]\n",
      "x/2 = [0.  0.5 1.  1.5 2.  2.5]\n",
      "x//2 = [0 0 1 1 2 2]\n"
     ]
    }
   ],
   "source": [
    "import numpy as np\n",
    "x = np.arange(6)\n",
    "print(\"x   =\",x)\n",
    "print(\"x+5 =\",x+5)\n",
    "print(\"x-3 =\",x-3)\n",
    "print(\"x*2 =\",x*2)\n",
    "print(\"x/2 =\",x/2)\n",
    "print(\"x//2 =\",x//2) # floor division"
   ]
  },
  {
   "cell_type": "raw",
   "id": "91b3a936",
   "metadata": {},
   "source": [
    "There is also a unary ufunc for negation, a ** operator for exponentiation, and a %\n",
    "operator for modulus"
   ]
  },
  {
   "cell_type": "code",
   "execution_count": 47,
   "id": "7c6f73e9",
   "metadata": {},
   "outputs": [
    {
     "name": "stdout",
     "output_type": "stream",
     "text": [
      "-x = [ 0 -1 -2 -3 -4 -5]\n",
      "x**2 =  [ 0  1  4  9 16 25]\n",
      "x%2 = [0 1 0 1 0 1]\n"
     ]
    }
   ],
   "source": [
    "print(\"-x =\",-x)\n",
    "print(\"x**2 = \",x**2)\n",
    "print(\"x%2 =\",x%2)"
   ]
  },
  {
   "cell_type": "raw",
   "id": "8b1c66c0",
   "metadata": {},
   "source": [
    "In addition, these can be strung together however you wish, and the standard order\n",
    "of operations is respected:\n"
   ]
  },
  {
   "cell_type": "code",
   "execution_count": 50,
   "id": "ad664207",
   "metadata": {},
   "outputs": [
    {
     "data": {
      "text/plain": [
       "array([ -16.,   -1.,  -36., -121., -256., -441.])"
      ]
     },
     "execution_count": 50,
     "metadata": {},
     "output_type": "execute_result"
    }
   ],
   "source": [
    "-(5.0*x-4)**2"
   ]
  },
  {
   "cell_type": "markdown",
   "id": "30dfa215",
   "metadata": {},
   "source": [
    "# Fancy Indexing\n"
   ]
  },
  {
   "cell_type": "raw",
   "id": "3b02414b",
   "metadata": {},
   "source": [
    "Fancy indexing is conceptually simple: it means passing an array of indices to access multiple array elements at once. \n",
    "\n",
    "For example, consider the following array:"
   ]
  },
  {
   "cell_type": "code",
   "execution_count": 9,
   "id": "e7c38fb2",
   "metadata": {},
   "outputs": [
    {
     "data": {
      "text/plain": [
       "array([70, 91,  7, 37, 56, 50, 65, 12, 71, 19])"
      ]
     },
     "execution_count": 9,
     "metadata": {},
     "output_type": "execute_result"
    }
   ],
   "source": [
    "import numpy as np\n",
    "\n",
    "\n",
    "rnd = np.random.RandomState(40)\n",
    "\n",
    "x = rnd.randint(100,size=10)\n",
    "x"
   ]
  },
  {
   "cell_type": "code",
   "execution_count": 12,
   "id": "f0081794",
   "metadata": {},
   "outputs": [
    {
     "data": {
      "text/plain": [
       "[91, 50, 65]"
      ]
     },
     "execution_count": 12,
     "metadata": {},
     "output_type": "execute_result"
    }
   ],
   "source": [
    "#Suppose we want to access three different elements. We could do it like this:\n",
    "\n",
    "[x[1],x[5],x[6]]\n",
    "\n"
   ]
  },
  {
   "cell_type": "code",
   "execution_count": 13,
   "id": "0292eff2",
   "metadata": {},
   "outputs": [
    {
     "data": {
      "text/plain": [
       "array([91, 50, 65])"
      ]
     },
     "execution_count": 13,
     "metadata": {},
     "output_type": "execute_result"
    }
   ],
   "source": [
    "#Alternatively, we can pass a single list or array of indices to obtain the same result:\n",
    "\n",
    "ind = [1,5,6]\n",
    "x[ind]"
   ]
  },
  {
   "cell_type": "raw",
   "id": "6040e053",
   "metadata": {},
   "source": [
    "With fancy indexing, the shape of the result reflects the shape of the index arrays\n",
    "rather than the shape of the array being indexed:"
   ]
  },
  {
   "cell_type": "code",
   "execution_count": 14,
   "id": "99f3bb8b",
   "metadata": {},
   "outputs": [
    {
     "data": {
      "text/plain": [
       "array([[91, 50],\n",
       "       [37, 56]])"
      ]
     },
     "execution_count": 14,
     "metadata": {},
     "output_type": "execute_result"
    }
   ],
   "source": [
    "ind  = np.array([[1,5],[3,4]])\n",
    "x[ind]"
   ]
  },
  {
   "cell_type": "markdown",
   "id": "10872ecf",
   "metadata": {},
   "source": [
    "Fancy indexing also works in multiple dimensions. Consider the following array:\n"
   ]
  },
  {
   "cell_type": "code",
   "execution_count": 19,
   "id": "f2dec6b6",
   "metadata": {},
   "outputs": [
    {
     "name": "stdout",
     "output_type": "stream",
     "text": [
      "[[ 0  1  2  3  4]\n",
      " [ 5  6  7  8  9]\n",
      " [10 11 12 13 14]\n",
      " [15 16 17 18 19]\n",
      " [20 21 22 23 24]]\n"
     ]
    },
    {
     "data": {
      "text/plain": [
       "array([ 1,  7, 15])"
      ]
     },
     "execution_count": 19,
     "metadata": {},
     "output_type": "execute_result"
    }
   ],
   "source": [
    "x = np.arange(25).reshape(5,5)\n",
    "print(x)\n",
    "row = np.array([0,1,3])\n",
    "col = np.array([1,2,0])\n",
    "\n",
    "x[row,col]"
   ]
  },
  {
   "cell_type": "markdown",
   "id": "7a9ec944",
   "metadata": {},
   "source": [
    "### Selecting Random Points"
   ]
  },
  {
   "cell_type": "code",
   "execution_count": 26,
   "id": "c8c346c3",
   "metadata": {},
   "outputs": [
    {
     "data": {
      "text/plain": [
       "<matplotlib.collections.PathCollection at 0x158d801a0d0>"
      ]
     },
     "execution_count": 26,
     "metadata": {},
     "output_type": "execute_result"
    },
    {
     "data": {
      "image/png": "[encoded data removed]",
      "text/plain": [
       "<Figure size 640x480 with 1 Axes>"
      ]
     },
     "metadata": {},
     "output_type": "display_data"
    }
   ],
   "source": [
    "import numpy as np\n",
    "from matplotlib import pyplot as plt\n",
    "\n",
    "\n",
    "mean = [0,0]\n",
    "cov = [[1,2],[2,5]]\n",
    "x = np.random.multivariate_normal(mean,cov,100)\n",
    "x.shape\n",
    "\n",
    "plt.scatter(x[:,0],x[:,1],color=\"red\")"
   ]
  },
  {
   "cell_type": "markdown",
   "id": "7590eab6",
   "metadata": {},
   "source": [
    "# Sorting Arrays\n"
   ]
  },
  {
   "cell_type": "markdown",
   "id": "0a4f9cbe",
   "metadata": {},
   "source": [
    "### 01. Fast Sorting in NumPy: np.sort and np.argsort\n",
    " "
   ]
  },
  {
   "cell_type": "code",
   "execution_count": 29,
   "id": "f15c90fd",
   "metadata": {},
   "outputs": [
    {
     "name": "stdout",
     "output_type": "stream",
     "text": [
      "[ 1  2  2  3  4  5 34 43 56]\n"
     ]
    }
   ],
   "source": [
    "import numpy as np\n",
    "\n",
    "x = np.array([2,34,2,1,43,4,5,56,3])\n",
    "np.sort(x)\n",
    "\n",
    "#If you prefer to sort the array in-place, you can instead use the sort method of arrays:\n",
    "x.sort()\n",
    "print(x)"
   ]
  },
  {
   "cell_type": "markdown",
   "id": "05ef9202",
   "metadata": {},
   "source": [
    "A related function is argsort, which instead returns the indices of the sorted\n",
    "elements:"
   ]
  },
  {
   "cell_type": "code",
   "execution_count": 31,
   "id": "afefdbea",
   "metadata": {},
   "outputs": [
    {
     "name": "stdout",
     "output_type": "stream",
     "text": [
      "[ 0  3  3  4  5  6 12 12 66]\n"
     ]
    },
    {
     "data": {
      "text/plain": [
       "array([7, 2, 3, 6, 4, 8, 0, 1, 5], dtype=int64)"
      ]
     },
     "execution_count": 31,
     "metadata": {},
     "output_type": "execute_result"
    }
   ],
   "source": [
    "x = np.array([12,12,3,3,5,66,4,0,6])\n",
    "print(np.sort(x))\n",
    "np.argsort(x)"
   ]
  },
  {
   "cell_type": "markdown",
   "id": "674144ba",
   "metadata": {},
   "source": [
    "### 02. Sorting along rows or columns\n",
    " "
   ]
  },
  {
   "cell_type": "code",
   "execution_count": 33,
   "id": "33579240",
   "metadata": {},
   "outputs": [
    {
     "data": {
      "text/plain": [
       "array([[12, 15,  0,  3,  3],\n",
       "       [ 7,  9, 19, 18,  4],\n",
       "       [ 6, 12,  1,  6,  7],\n",
       "       [14, 17,  5, 13,  8]])"
      ]
     },
     "execution_count": 33,
     "metadata": {},
     "output_type": "execute_result"
    }
   ],
   "source": [
    "np.random.seed(0)\n",
    "\n",
    "x = np.random.randint(0,20,(4,5))\n",
    "x"
   ]
  },
  {
   "cell_type": "code",
   "execution_count": 36,
   "id": "ba1f030f",
   "metadata": {},
   "outputs": [
    {
     "data": {
      "text/plain": [
       "array([[ 6,  9,  0,  3,  3],\n",
       "       [ 7, 12,  1,  6,  4],\n",
       "       [12, 15,  5, 13,  7],\n",
       "       [14, 17, 19, 18,  8]])"
      ]
     },
     "execution_count": 36,
     "metadata": {},
     "output_type": "execute_result"
    }
   ],
   "source": [
    "# sort each column of X\n",
    "\n",
    "np.sort(x,axis=0)"
   ]
  },
  {
   "cell_type": "code",
   "execution_count": 37,
   "id": "0d01d314",
   "metadata": {},
   "outputs": [
    {
     "data": {
      "text/plain": [
       "array([[ 0,  3,  3, 12, 15],\n",
       "       [ 4,  7,  9, 18, 19],\n",
       "       [ 1,  6,  6,  7, 12],\n",
       "       [ 5,  8, 13, 14, 17]])"
      ]
     },
     "execution_count": 37,
     "metadata": {},
     "output_type": "execute_result"
    }
   ],
   "source": [
    "# sort each row of X\n",
    "\n",
    "np.sort(x,axis=1)"
   ]
  },
  {
   "cell_type": "markdown",
   "id": "a7445311",
   "metadata": {},
   "source": [
    "### 03.Partial Sorts: Partitioning\n",
    " "
   ]
  },
  {
   "cell_type": "code",
   "execution_count": 41,
   "id": "55a6f3b2",
   "metadata": {},
   "outputs": [
    {
     "data": {
      "text/plain": [
       "array([ 0,  1,  2, 43, 54, 56, 12, 33])"
      ]
     },
     "execution_count": 41,
     "metadata": {},
     "output_type": "execute_result"
    }
   ],
   "source": [
    "x = np.array([12,2,1,43,54,56,0,33])\n",
    "np.partition(x,1)"
   ]
  },
  {
   "cell_type": "markdown",
   "id": "b75957ac",
   "metadata": {},
   "source": [
    "# Structured Data: NumPy’s Structured Arrays\n"
   ]
  },
  {
   "cell_type": "code",
   "execution_count": 26,
   "id": "b3d1fadb",
   "metadata": {},
   "outputs": [
    {
     "name": "stdout",
     "output_type": "stream",
     "text": [
      "[('Ravi', 23, 25. ) ('Siv', 34, 56.2) ('Rahul', 28, 34.6)]\n",
      "Printing name in the array\n",
      "\n",
      "['Ravi' 'Siv' 'Rahul']\n"
     ]
    },
    {
     "data": {
      "text/plain": [
       "array(['Ravi', 'Rahul'], dtype='<U10')"
      ]
     },
     "execution_count": 26,
     "metadata": {},
     "output_type": "execute_result"
    }
   ],
   "source": [
    "import numpy as np\n",
    "\n",
    "name = [\"Ravi\",\"Siv\",\"Rahul\"]\n",
    "age = [23,34,28]\n",
    "weight = [25.0,56.2,34.6]\n",
    "\n",
    "# Use a compound data type for structured arrays\n",
    "data = np.zeros(3,dtype={'names' :(\"name\",\"age\",\"weight\"), 'formats':(\"U10\",\"i4\",\"f8\")})\n",
    "\n",
    "data[\"name\"] = name\n",
    "data[\"age\"] = age\n",
    "data[\"weight\"] = weight\n",
    "\n",
    "print(data)\n",
    "\n",
    "# get all names\n",
    "print(\"Printing name in the array\\n\")\n",
    "print(data[\"name\"])\n",
    "\n",
    "#get all age\n",
    "\n",
    "data['age']\n",
    "\n",
    "# get first row of data\n",
    "\n",
    "data[0]\n",
    "\n",
    "\n",
    "# get last name of the row\n",
    "\n",
    "data[-1]['name']\n",
    "\n",
    "\n",
    "# Get names where age is under 30\n",
    "\n",
    "data[data['age']<30]['name']"
   ]
  },
  {
   "cell_type": "markdown",
   "id": "3089ceba",
   "metadata": {},
   "source": [
    "### Creating Structured Arrays\n",
    " "
   ]
  },
  {
   "cell_type": "raw",
   "id": "260deb85",
   "metadata": {},
   "source": [
    "01. Structured array data types can be specified in a number of ways. Earlier, we saw the dictionary method:"
   ]
  },
  {
   "cell_type": "code",
   "execution_count": 30,
   "id": "173b6d79",
   "metadata": {},
   "outputs": [
    {
     "data": {
      "text/plain": [
       "dtype([('name', '<U10'), ('age', '<i4'), ('weight', '<f8')])"
      ]
     },
     "execution_count": 30,
     "metadata": {},
     "output_type": "execute_result"
    }
   ],
   "source": [
    "np.dtype({'names':(\"name\",\"age\",\"weight\"),'formats':(\"U10\",\"i4\",\"f8\")})"
   ]
  },
  {
   "cell_type": "raw",
   "id": "9a1a365f",
   "metadata": {},
   "source": [
    "02. For clarity, numerical types can be specified with Python types or NumPy dtypes instead:"
   ]
  },
  {
   "cell_type": "code",
   "execution_count": 33,
   "id": "9e6ebbda",
   "metadata": {},
   "outputs": [
    {
     "data": {
      "text/plain": [
       "dtype([('name', '<U10'), ('age', '<i4'), ('weight', '<f4')])"
      ]
     },
     "execution_count": 33,
     "metadata": {},
     "output_type": "execute_result"
    }
   ],
   "source": [
    "np.dtype({'names':(\"name\",\"age\",\"weight\"),\"formats\":((np.str_,10),int,(np.float32))})"
   ]
  },
  {
   "cell_type": "raw",
   "id": "1dc096db",
   "metadata": {},
   "source": [
    "03. A compound type can also be specified as a list of tuples:"
   ]
  },
  {
   "cell_type": "code",
   "execution_count": 37,
   "id": "cfe74a2b",
   "metadata": {},
   "outputs": [
    {
     "data": {
      "text/plain": [
       "dtype([('name', 'S10'), ('age', '<i4'), ('weight', '<f8')])"
      ]
     },
     "execution_count": 37,
     "metadata": {},
     "output_type": "execute_result"
    }
   ],
   "source": [
    "np.dtype([(\"name\",\"S10\"),(\"age\",\"i4\"),(\"weight\",\"f8\")])"
   ]
  },
  {
   "cell_type": "raw",
   "id": "4b954b21",
   "metadata": {},
   "source": [
    "04. If the names of the types do not matter to you, you can specify the types alone in a comma-separated string:"
   ]
  },
  {
   "cell_type": "code",
   "execution_count": 38,
   "id": "804c2080",
   "metadata": {},
   "outputs": [
    {
     "data": {
      "text/plain": [
       "dtype([('f0', 'S10'), ('f1', '<i4'), ('f2', '<f8')])"
      ]
     },
     "execution_count": 38,
     "metadata": {},
     "output_type": "execute_result"
    }
   ],
   "source": [
    "np.dtype(\"S10,i4,f8\")"
   ]
  },
  {
   "cell_type": "markdown",
   "id": "295e433e",
   "metadata": {},
   "source": [
    "# More Advanced Compound Types\n"
   ]
  },
  {
   "cell_type": "code",
   "execution_count": 41,
   "id": "2daf34ef",
   "metadata": {},
   "outputs": [
    {
     "name": "stdout",
     "output_type": "stream",
     "text": [
      "(0, [[0, 0, 0], [0, 0, 0], [0, 0, 0]])\n",
      "[[0 0 0]\n",
      " [0 0 0]\n",
      " [0 0 0]]\n"
     ]
    }
   ],
   "source": [
    "tp = np.dtype([(\"id\",\"i8\"),(\"mat\",\"u8\",(3,3))])\n",
    "x = np.zeros(1,dtype=tp)\n",
    "print(x[0])\n",
    "print(x['mat'][0])"
   ]
  },
  {
   "cell_type": "code",
   "execution_count": null,
   "id": "24ba942e",
   "metadata": {},
   "outputs": [],
   "source": []
  }
 ],
 "metadata": {
  "kernelspec": {
   "display_name": "Python 3 (ipykernel)",
   "language": "python",
   "name": "python3"
  },
  "language_info": {
   "codemirror_mode": {
    "name": "ipython",
    "version": 3
   },
   "file_extension": ".py",
   "mimetype": "text/x-python",
   "name": "python",
   "nbconvert_exporter": "python",
   "pygments_lexer": "ipython3",
   "version": "3.9.13"
  }
 },
 "nbformat": 4,
 "nbformat_minor": 5
}
