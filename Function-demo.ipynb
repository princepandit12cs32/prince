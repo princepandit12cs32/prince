{
 "cells": [
  {
   "cell_type": "code",
   "execution_count": 4,
   "id": "8d946f49",
   "metadata": {},
   "outputs": [
    {
     "name": "stdout",
     "output_type": "stream",
     "text": [
      "Name is  rahul\n",
      "Age is  18\n"
     ]
    }
   ],
   "source": [
    "def prince(name,age):\n",
    "    print(\"Name is \",name)\n",
    "    print(\"Age is \",age)\n",
    "\n",
    "prince('rahul',18)"
   ]
  },
  {
   "cell_type": "code",
   "execution_count": 5,
   "id": "9cad71d8",
   "metadata": {},
   "outputs": [
    {
     "name": "stdout",
     "output_type": "stream",
     "text": [
      "Total addition is  12132526526\n"
     ]
    }
   ],
   "source": [
    "def addition(n1,n2):\n",
    "    print('Total addition is ',n1+n2)\n",
    "\n",
    "addition(12131214214,1312312)"
   ]
  },
  {
   "cell_type": "code",
   "execution_count": null,
   "id": "62e082a8",
   "metadata": {},
   "outputs": [],
   "source": []
  }
 ],
 "metadata": {
  "kernelspec": {
   "display_name": "Python 3 (ipykernel)",
   "language": "python",
   "name": "python3"
  },
  "language_info": {
   "codemirror_mode": {
    "name": "ipython",
    "version": 3
   },
   "file_extension": ".py",
   "mimetype": "text/x-python",
   "name": "python",
   "nbconvert_exporter": "python",
   "pygments_lexer": "ipython3",
   "version": "3.9.13"
  }
 },
 "nbformat": 4,
 "nbformat_minor": 5
}
