{
 "cells": [
  {
   "cell_type": "code",
   "execution_count": 6,
   "id": "ad22cf92",
   "metadata": {},
   "outputs": [
    {
     "name": "stdout",
     "output_type": "stream",
     "text": [
      "Vehicle Model No. is L78990\n"
     ]
    }
   ],
   "source": [
    "#Simple Inheritance\n",
    "\n",
    "class Vehicle:\n",
    "    def v_model(self,mnumber):\n",
    "        self.m = mnumber\n",
    "    def model_print(self):\n",
    "        print(\"Vehicle Model No. is\",self.m)\n",
    "        \n",
    "obj = Vehicle() #Here creating object/blue_print of the class\n",
    "obj.v_model('L78990')#Here invoke the method by object\n",
    "obj.model_print() #Here call the method for final print/final function call"
   ]
  },
  {
   "cell_type": "code",
   "execution_count": 7,
   "id": "8000b898",
   "metadata": {},
   "outputs": [
    {
     "name": "stdout",
     "output_type": "stream",
     "text": [
      "Vehicle Model No. is P656644\n"
     ]
    }
   ],
   "source": [
    "class Vehicle:\n",
    "    def __init__(self,mnumber): # this method is automatic call when object is created \"__init__ method act as constructor\"\n",
    "        self.m = mnumber\n",
    "    def model_print(self):\n",
    "        print(\"Vehicle Model No. is\",self.m)\n",
    "\n",
    "obj = Vehicle(\"P656644\") \n",
    "obj.model_print()"
   ]
  },
  {
   "cell_type": "code",
   "execution_count": 33,
   "id": "153246e2",
   "metadata": {},
   "outputs": [
    {
     "name": "stdout",
     "output_type": "stream",
     "text": [
      "\n",
      " I am Car\n",
      "Car cost is  234235\n",
      "Car color is  red\n",
      "I am Vehicle\n",
      "Vehicle Make is  TATA\n",
      "Vehicle Model is  XUV 500\n"
     ]
    }
   ],
   "source": [
    "class Vehicle:\n",
    "    def __init__(self,make,model):\n",
    "        self.make = make\n",
    "        self.model = model\n",
    "        \n",
    "    def vehicle_print(self):\n",
    "        print(\"I am Vehicle\")\n",
    "        print(\"Vehicle Make is \",self.make)\n",
    "        print(\"Vehicle Model is \",self.model)\n",
    "class Car(Vehicle):\n",
    "    def __init__(self,cost,color):\n",
    "       # super().__init__(make,model)\n",
    "        self.cost = cost\n",
    "        self.color = color\n",
    "    def print_car(self):\n",
    "        print()\n",
    "        print(\" I am Car\")\n",
    "        print(\"Car cost is \", self.cost)\n",
    "        print(\"Car color is \", self.color)\n",
    "\n",
    "obh1 = Vehicle('TATA','XUV 500')\n",
    "obj = Car(234235,'red')\n",
    "obj.print_car()\n",
    "obh1.vehicle_print()\n",
    "    \n",
    "    "
   ]
  },
  {
   "cell_type": "code",
   "execution_count": 21,
   "id": "741a5a19",
   "metadata": {},
   "outputs": [
    {
     "name": "stdout",
     "output_type": "stream",
     "text": [
      "Vehicle Model No. is L234235\n",
      "No of Total Transport is  2\n",
      "Train No is  14535\n"
     ]
    }
   ],
   "source": [
    "# Multiple Inheritance\n",
    "\n",
    "class Vehicle:\n",
    "    def vehicle(self,mnumber): # this method is automatic call when object is created\n",
    "        self.m = mnumber\n",
    "    def model_print(self):\n",
    "        print(\"Vehicle Model No. is\",self.m)\n",
    "class Train:\n",
    "    def train(self,tnumber):\n",
    "        self.t=tnumber\n",
    "    def train_print(self):\n",
    "        print(\"Train No is \",self.t)\n",
    "class Transport(Vehicle,Train):\n",
    "    def transport(self,ntransport):\n",
    "        self.transport=ntransport\n",
    "    def transport_print(self):\n",
    "        print(\"No of Total Transport is \",self.transport)\n",
    "        \n",
    "obj = Transport()\n",
    "obj.vehicle(\"L234235\")\n",
    "obj.model_print()\n",
    "obj.transport(2)\n",
    "obj.train(\"14535\")\n",
    "obj.transport_print()\n",
    "obj.train_print()\n",
    "        \n",
    "        \n",
    "        \n",
    "        \n",
    "           "
   ]
  },
  {
   "cell_type": "code",
   "execution_count": 13,
   "id": "a3a32e30",
   "metadata": {},
   "outputs": [
    {
     "name": "stdout",
     "output_type": "stream",
     "text": [
      "I am Gand child class and My name is  Father\n",
      "I am Child Class and My name is  Father\n",
      "I am Parent Class and my name is  Father\n"
     ]
    }
   ],
   "source": [
    "# Multilevel Inheritance\n",
    "\n",
    "class Parent:\n",
    "    def parent(self,name):\n",
    "        self.name = name\n",
    "    def print_parent(self):\n",
    "        print('I am Parent Class and my name is ',self.name)\n",
    "class Child(Parent):\n",
    "    def child(self,name):\n",
    "        self.name = name\n",
    "    def print_child(self):\n",
    "        print(\"I am Child Class and My name is \",self.name)\n",
    "        \n",
    "class Grand_child(Child):\n",
    "    def grand_child(self,name1):\n",
    "        self.name = name1\n",
    "    def print_grand_child(self):\n",
    "        print('I am Gand child class and My name is ',self.name)\n",
    "        \n",
    "obj = Grand_child()\n",
    "\n",
    "#obj.grand_child(\"Ravi\")\n",
    "#obj.child(\"Prince\")\n",
    "obj.parent(\"Father\")#when passing argument in parent then pass the same argument to child and grand child also\n",
    "obj.print_grand_child()\n",
    "obj.print_child()\n",
    "obj.print_parent()"
   ]
  },
  {
   "cell_type": "code",
   "execution_count": null,
   "id": "260dd1d9",
   "metadata": {},
   "outputs": [],
   "source": []
  },
  {
   "cell_type": "code",
   "execution_count": null,
   "id": "29a25ea3",
   "metadata": {},
   "outputs": [],
   "source": []
  }
 ],
 "metadata": {
  "kernelspec": {
   "display_name": "Python 3 (ipykernel)",
   "language": "python",
   "name": "python3"
  },
  "language_info": {
   "codemirror_mode": {
    "name": "ipython",
    "version": 3
   },
   "file_extension": ".py",
   "mimetype": "text/x-python",
   "name": "python",
   "nbconvert_exporter": "python",
   "pygments_lexer": "ipython3",
   "version": "3.9.13"
  }
 },
 "nbformat": 4,
 "nbformat_minor": 5
}
